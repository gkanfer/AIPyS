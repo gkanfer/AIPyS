{
 "cells": [
  {
   "cell_type": "markdown",
   "id": "2669a8e9",
   "metadata": {},
   "source": [
    "# Enrichment Analysis - sgRNA"
   ]
  },
  {
   "cell_type": "markdown",
   "id": "caeb8004",
   "metadata": {},
   "source": [
    "Our platform allows for screening rates of up to one million cells per run, with a minimum rate of 100,000 cells. To optimize this process, an enrichment strategy has been developed.\n",
    "\n",
    "In a CRISPR perturbation screen, the Geometric Distribution is the most commonly used sgRNA sequencing distribution, with an emphasis on evenly distributes sgRNAs across a gene or set of genes. However, the Negative Binomial Distribution is also used and provides more accurate measurement of perturbation by emphasizing the number of times a gene target is hit. \n",
    "\n",
    "The ```Simulate``` module simulates AIPS by definingthe  the sgRNA pool for a given gene using the ```lookupString``` parameter. It uses the published crispri sgRNA data (Horlbeck et al) and a Negative Binomial distribution with parameters n and p to determine the number of effective (successful) sgRNA in the pool , as shown in the Python library [pymc](https://www.pymc.io/welcome.html). The argument ```tpRatio``` indicates the number of effective target sgRNA in the pool. It is known that approximately 0.2 to 0.4 of the sgRNA targeting a particular gene are effective, according to the paper by Daley et al. "
   ]
  },
  {
   "cell_type": "markdown",
   "id": "117fe2b0",
   "metadata": {},
   "source": [
    "- Max A Horlbeck, Luke A Gilbert, Jacqueline E Villalta, Britt Adamson, Ryan A Pak, Yuwen Chen, Alexander P Fields, Chong Yon Park, Jacob E Corn, Martin Kampmann, Jonathan S Weissman (2016) Compact and highly active next-generation libraries for CRISPR-mediated gene repression and activation eLife 5:e19760 https://doi.org/10.7554/eLife.19760\n",
    "\n",
    "- Daley, T., Lin, Z., Lin, X. et al. CRISPhieRmix: a hierarchical mixture model for CRISPR pooled screens. Genome Biol 19, 159 (2018). https://doi.org/10.1186/s13059-018-1538-6\n",
    "\n"
   ]
  },
  {
   "cell_type": "markdown",
   "id": "97eb5db5",
   "metadata": {},
   "source": [
    "```python\n",
    "from AIPyS import AIPS_simulate as sim\n",
    "# filtered list of sgRNA data from the reference library for the sub library h4\n",
    "dfH4 = pd.read_csv('dfH4.csv')\n",
    "```\n",
    "\n",
    "The command ```simulation``` defines the false positives limits and the number of observations per acquisition, which is drawn from a normal distribution.\n",
    "\n",
    "```python\n",
    "orig, Q1, Q2 = sim.Simulate(df = dfH4 ,lookupString =  'PEX' ,tpRatio = 20, n= 10 , p = 0.1).simulation(\n",
    "                            FalseLimits  = (0.1,0.5), ObservationNum = (70,20))\n",
    "```\n",
    "This function returns three data frames: ```orig``` contains the original read counts, ```Q1``` contains the read counts of the sgRNAs not selected during acquisition, and ```Q2``` contains the read counts of the selected hits the \"activated\" sample."
   ]
  },
  {
   "cell_type": "code",
   "execution_count": 1,
   "id": "fe02e322",
   "metadata": {
    "collapsed": true
   },
   "outputs": [
    {
     "ename": "NameError",
     "evalue": "name 'self' is not defined",
     "output_type": "error",
     "traceback": [
      "\u001b[0;31m---------------------------------------------------------------------------\u001b[0m",
      "\u001b[0;31mNameError\u001b[0m                                 Traceback (most recent call last)",
      "Input \u001b[0;32mIn [1]\u001b[0m, in \u001b[0;36m<cell line: 1>\u001b[0;34m()\u001b[0m\n\u001b[0;32m----> 1\u001b[0m \u001b[38;5;28;43mself\u001b[39;49m\u001b[38;5;241m.\u001b[39mdf[\u001b[38;5;124m'\u001b[39m\u001b[38;5;124mactiveSg\u001b[39m\u001b[38;5;124m'\u001b[39m] \u001b[38;5;241m=\u001b[39m \u001b[38;5;28;01mFalse\u001b[39;00m\n\u001b[1;32m      2\u001b[0m indexPexActiveArray \u001b[38;5;241m=\u001b[39m \u001b[38;5;28mself\u001b[39m\u001b[38;5;241m.\u001b[39mdf\u001b[38;5;241m.\u001b[39mloc[random\u001b[38;5;241m.\u001b[39msample(indexTarget, \u001b[38;5;28mself\u001b[39m\u001b[38;5;241m.\u001b[39mtpRatio)]\u001b[38;5;241m.\u001b[39mindex\u001b[38;5;241m.\u001b[39mtolist()\n\u001b[1;32m      3\u001b[0m \u001b[38;5;28mself\u001b[39m\u001b[38;5;241m.\u001b[39mdf\u001b[38;5;241m.\u001b[39mloc[indexPexActiveArray, \u001b[38;5;124m'\u001b[39m\u001b[38;5;124mactiveSg\u001b[39m\u001b[38;5;124m'\u001b[39m] \u001b[38;5;241m=\u001b[39m \u001b[38;5;28;01mTrue\u001b[39;00m\n",
      "\u001b[0;31mNameError\u001b[0m: name 'self' is not defined"
     ]
    }
   ],
   "source": [
    "self.df['activeSg'] = False\n",
    "indexPexActiveArray = self.df.loc[random.sample(indexTarget, self.tpRatio)].index.tolist()\n",
    "self.df.loc[indexPexActiveArray, 'activeSg'] = True\n",
    "# list of sgRNA which are true\n",
    "TruePositiveSGs = tuple(self.df.loc[indexPexActiveArray, 'sgID'].to_list())"
   ]
  },
  {
   "cell_type": "markdown",
   "id": "c05c6f13",
   "metadata": {},
   "source": [
    "Enrichment analysis was performed by comparing the activated simulated data (Q2) with the non-activated simulated data (Q1). Mapping of the read counts was done according to the unique Gene names, and the perturbation effects were calculated by dividing the log count data of Q2 by that of Q1.\n",
    "\n",
    "```python\n",
    "from AIPyS import mapSgRNA \n",
    "# filtered list of sgRNA data from the reference library for the sub library h4\n",
    "pathIn = r'F:\\HAB_2\\PrinzScreen\\AIPS_simulation\\AIPS_simulation\\data'\n",
    "Q2 = pd.read_csv(os.path.join(pathIn,'h4_1_45tpGuide_Q2.csv'))\n",
    "Q1 = pd.read_csv(os.path.join(pathIn,'h4_1_45tpGuide_Q1.csv'))\n",
    "# unique\n",
    "\n",
    "uniqueSgRNA = np.unique(Q2.sgID.values)\n",
    "\n",
    "# The mapping of unique sgRNA to the SIM was performed using the module mapsgrna\n",
    "\n",
    "dictDF = mapSgRNA(df1 = Q1, df2 = Q2)\n",
    "\n",
    "# Make dictionary mapping reads to unique sgRNA\n",
    "\n",
    "df_dict = dictDF.mapping(uniqueSgRNA = uniqueSgRNA)\n",
    "\n",
    "# data frame contain logFC and z-score logFC\n",
    "\n",
    "df = dictDF.dataFrameFinal(df_dict)\n",
    "```"
   ]
  },
  {
   "cell_type": "markdown",
   "id": "66301695",
   "metadata": {},
   "source": [
    "## Simulation Data"
   ]
  },
  {
   "cell_type": "code",
   "execution_count": 16,
   "id": "f0e5a97f",
   "metadata": {},
   "outputs": [
    {
     "ename": "KeyboardInterrupt",
     "evalue": "",
     "output_type": "error",
     "traceback": [
      "\u001b[1;31m---------------------------------------------------------------------------\u001b[0m",
      "\u001b[1;31mKeyboardInterrupt\u001b[0m                         Traceback (most recent call last)",
      "\u001b[1;32m~\\AppData\\Local\\Temp\\ipykernel_13464\\2980593040.py\u001b[0m in \u001b[0;36m<module>\u001b[1;34m\u001b[0m\n\u001b[0;32m    157\u001b[0m \u001b[1;33m\u001b[0m\u001b[0m\n\u001b[0;32m    158\u001b[0m \u001b[1;33m\u001b[0m\u001b[0m\n\u001b[1;32m--> 159\u001b[1;33m \u001b[0msns\u001b[0m\u001b[1;33m.\u001b[0m\u001b[0mpointplot\u001b[0m\u001b[1;33m(\u001b[0m\u001b[0mdata\u001b[0m \u001b[1;33m=\u001b[0m \u001b[0mdf_HighEf_HigFP\u001b[0m\u001b[1;33m,\u001b[0m \u001b[0mx\u001b[0m\u001b[1;33m=\u001b[0m\u001b[1;34m'GeneNum'\u001b[0m\u001b[1;33m,\u001b[0m \u001b[0my\u001b[0m\u001b[1;33m=\u001b[0m\u001b[1;34m'FC (median)'\u001b[0m\u001b[1;33m,\u001b[0m \u001b[0mhue\u001b[0m\u001b[1;33m=\u001b[0m\u001b[1;34m'PEX'\u001b[0m\u001b[1;33m,\u001b[0m \u001b[0mpalette\u001b[0m \u001b[1;33m=\u001b[0m \u001b[0mcolor_dict\u001b[0m\u001b[1;33m,\u001b[0m\u001b[0max\u001b[0m \u001b[1;33m=\u001b[0m \u001b[0maxs\u001b[0m\u001b[1;33m[\u001b[0m\u001b[1;36m0\u001b[0m\u001b[1;33m,\u001b[0m\u001b[1;36m0\u001b[0m\u001b[1;33m]\u001b[0m\u001b[1;33m)\u001b[0m\u001b[1;33m\u001b[0m\u001b[1;33m\u001b[0m\u001b[0m\n\u001b[0m\u001b[0;32m    160\u001b[0m \u001b[0msns\u001b[0m\u001b[1;33m.\u001b[0m\u001b[0mpointplot\u001b[0m\u001b[1;33m(\u001b[0m\u001b[0mdata\u001b[0m \u001b[1;33m=\u001b[0m \u001b[0mdf_HighEf_lowFP\u001b[0m\u001b[1;33m,\u001b[0m \u001b[0mx\u001b[0m\u001b[1;33m=\u001b[0m\u001b[1;34m'GeneNum'\u001b[0m\u001b[1;33m,\u001b[0m \u001b[0my\u001b[0m\u001b[1;33m=\u001b[0m\u001b[1;34m'FC (median)'\u001b[0m\u001b[1;33m,\u001b[0m \u001b[0mhue\u001b[0m\u001b[1;33m=\u001b[0m\u001b[1;34m'PEX'\u001b[0m\u001b[1;33m,\u001b[0m \u001b[0mpalette\u001b[0m \u001b[1;33m=\u001b[0m \u001b[0mcolor_dict\u001b[0m\u001b[1;33m,\u001b[0m\u001b[0max\u001b[0m \u001b[1;33m=\u001b[0m \u001b[0maxs\u001b[0m\u001b[1;33m[\u001b[0m\u001b[1;36m0\u001b[0m\u001b[1;33m,\u001b[0m\u001b[1;36m1\u001b[0m\u001b[1;33m]\u001b[0m\u001b[1;33m)\u001b[0m\u001b[1;33m\u001b[0m\u001b[1;33m\u001b[0m\u001b[0m\n\u001b[0;32m    161\u001b[0m \u001b[0msns\u001b[0m\u001b[1;33m.\u001b[0m\u001b[0mpointplot\u001b[0m\u001b[1;33m(\u001b[0m\u001b[0mdata\u001b[0m \u001b[1;33m=\u001b[0m \u001b[0mdf_LowEf_HigFP\u001b[0m\u001b[1;33m,\u001b[0m \u001b[0mx\u001b[0m\u001b[1;33m=\u001b[0m\u001b[1;34m'GeneNum'\u001b[0m\u001b[1;33m,\u001b[0m \u001b[0my\u001b[0m\u001b[1;33m=\u001b[0m\u001b[1;34m'FC (median)'\u001b[0m\u001b[1;33m,\u001b[0m \u001b[0mhue\u001b[0m\u001b[1;33m=\u001b[0m\u001b[1;34m'PEX'\u001b[0m\u001b[1;33m,\u001b[0m \u001b[0mpalette\u001b[0m \u001b[1;33m=\u001b[0m \u001b[0mcolor_dict\u001b[0m\u001b[1;33m,\u001b[0m\u001b[0max\u001b[0m \u001b[1;33m=\u001b[0m \u001b[0maxs\u001b[0m\u001b[1;33m[\u001b[0m\u001b[1;36m1\u001b[0m\u001b[1;33m,\u001b[0m\u001b[1;36m0\u001b[0m\u001b[1;33m]\u001b[0m\u001b[1;33m)\u001b[0m\u001b[1;33m\u001b[0m\u001b[1;33m\u001b[0m\u001b[0m\n",
      "\u001b[1;32mF:\\Gil\\anaconda\\envs\\pm-tf24-cellpose\\lib\\site-packages\\seaborn\\_decorators.py\u001b[0m in \u001b[0;36minner_f\u001b[1;34m(*args, **kwargs)\u001b[0m\n\u001b[0;32m     44\u001b[0m             )\n\u001b[0;32m     45\u001b[0m         \u001b[0mkwargs\u001b[0m\u001b[1;33m.\u001b[0m\u001b[0mupdate\u001b[0m\u001b[1;33m(\u001b[0m\u001b[1;33m{\u001b[0m\u001b[0mk\u001b[0m\u001b[1;33m:\u001b[0m \u001b[0marg\u001b[0m \u001b[1;32mfor\u001b[0m \u001b[0mk\u001b[0m\u001b[1;33m,\u001b[0m \u001b[0marg\u001b[0m \u001b[1;32min\u001b[0m \u001b[0mzip\u001b[0m\u001b[1;33m(\u001b[0m\u001b[0msig\u001b[0m\u001b[1;33m.\u001b[0m\u001b[0mparameters\u001b[0m\u001b[1;33m,\u001b[0m \u001b[0margs\u001b[0m\u001b[1;33m)\u001b[0m\u001b[1;33m}\u001b[0m\u001b[1;33m)\u001b[0m\u001b[1;33m\u001b[0m\u001b[1;33m\u001b[0m\u001b[0m\n\u001b[1;32m---> 46\u001b[1;33m         \u001b[1;32mreturn\u001b[0m \u001b[0mf\u001b[0m\u001b[1;33m(\u001b[0m\u001b[1;33m**\u001b[0m\u001b[0mkwargs\u001b[0m\u001b[1;33m)\u001b[0m\u001b[1;33m\u001b[0m\u001b[1;33m\u001b[0m\u001b[0m\n\u001b[0m\u001b[0;32m     47\u001b[0m     \u001b[1;32mreturn\u001b[0m \u001b[0minner_f\u001b[0m\u001b[1;33m\u001b[0m\u001b[1;33m\u001b[0m\u001b[0m\n\u001b[0;32m     48\u001b[0m \u001b[1;33m\u001b[0m\u001b[0m\n",
      "\u001b[1;32mF:\\Gil\\anaconda\\envs\\pm-tf24-cellpose\\lib\\site-packages\\seaborn\\categorical.py\u001b[0m in \u001b[0;36mpointplot\u001b[1;34m(x, y, hue, data, order, hue_order, estimator, ci, n_boot, units, seed, markers, linestyles, dodge, join, scale, orient, color, palette, errwidth, capsize, ax, **kwargs)\u001b[0m\n\u001b[0;32m   3376\u001b[0m                             \u001b[0mestimator\u001b[0m\u001b[1;33m,\u001b[0m \u001b[0mci\u001b[0m\u001b[1;33m,\u001b[0m \u001b[0mn_boot\u001b[0m\u001b[1;33m,\u001b[0m \u001b[0munits\u001b[0m\u001b[1;33m,\u001b[0m \u001b[0mseed\u001b[0m\u001b[1;33m,\u001b[0m\u001b[1;33m\u001b[0m\u001b[1;33m\u001b[0m\u001b[0m\n\u001b[0;32m   3377\u001b[0m                             \u001b[0mmarkers\u001b[0m\u001b[1;33m,\u001b[0m \u001b[0mlinestyles\u001b[0m\u001b[1;33m,\u001b[0m \u001b[0mdodge\u001b[0m\u001b[1;33m,\u001b[0m \u001b[0mjoin\u001b[0m\u001b[1;33m,\u001b[0m \u001b[0mscale\u001b[0m\u001b[1;33m,\u001b[0m\u001b[1;33m\u001b[0m\u001b[1;33m\u001b[0m\u001b[0m\n\u001b[1;32m-> 3378\u001b[1;33m                             orient, color, palette, errwidth, capsize)\n\u001b[0m\u001b[0;32m   3379\u001b[0m \u001b[1;33m\u001b[0m\u001b[0m\n\u001b[0;32m   3380\u001b[0m     \u001b[1;32mif\u001b[0m \u001b[0max\u001b[0m \u001b[1;32mis\u001b[0m \u001b[1;32mNone\u001b[0m\u001b[1;33m:\u001b[0m\u001b[1;33m\u001b[0m\u001b[1;33m\u001b[0m\u001b[0m\n",
      "\u001b[1;32mF:\\Gil\\anaconda\\envs\\pm-tf24-cellpose\\lib\\site-packages\\seaborn\\categorical.py\u001b[0m in \u001b[0;36m__init__\u001b[1;34m(self, x, y, hue, data, order, hue_order, estimator, ci, n_boot, units, seed, markers, linestyles, dodge, join, scale, orient, color, palette, errwidth, capsize)\u001b[0m\n\u001b[0;32m   1656\u001b[0m                                  order, hue_order, units)\n\u001b[0;32m   1657\u001b[0m         \u001b[0mself\u001b[0m\u001b[1;33m.\u001b[0m\u001b[0mestablish_colors\u001b[0m\u001b[1;33m(\u001b[0m\u001b[0mcolor\u001b[0m\u001b[1;33m,\u001b[0m \u001b[0mpalette\u001b[0m\u001b[1;33m,\u001b[0m \u001b[1;36m1\u001b[0m\u001b[1;33m)\u001b[0m\u001b[1;33m\u001b[0m\u001b[1;33m\u001b[0m\u001b[0m\n\u001b[1;32m-> 1658\u001b[1;33m         \u001b[0mself\u001b[0m\u001b[1;33m.\u001b[0m\u001b[0mestimate_statistic\u001b[0m\u001b[1;33m(\u001b[0m\u001b[0mestimator\u001b[0m\u001b[1;33m,\u001b[0m \u001b[0mci\u001b[0m\u001b[1;33m,\u001b[0m \u001b[0mn_boot\u001b[0m\u001b[1;33m,\u001b[0m \u001b[0mseed\u001b[0m\u001b[1;33m)\u001b[0m\u001b[1;33m\u001b[0m\u001b[1;33m\u001b[0m\u001b[0m\n\u001b[0m\u001b[0;32m   1659\u001b[0m \u001b[1;33m\u001b[0m\u001b[0m\n\u001b[0;32m   1660\u001b[0m         \u001b[1;31m# Override the default palette for single-color plots\u001b[0m\u001b[1;33m\u001b[0m\u001b[1;33m\u001b[0m\u001b[1;33m\u001b[0m\u001b[0m\n",
      "\u001b[1;32mF:\\Gil\\anaconda\\envs\\pm-tf24-cellpose\\lib\\site-packages\\seaborn\\categorical.py\u001b[0m in \u001b[0;36mestimate_statistic\u001b[1;34m(self, estimator, ci, n_boot, seed)\u001b[0m\n\u001b[0;32m   1538\u001b[0m                                               \u001b[0mn_boot\u001b[0m\u001b[1;33m=\u001b[0m\u001b[0mn_boot\u001b[0m\u001b[1;33m,\u001b[0m\u001b[1;33m\u001b[0m\u001b[1;33m\u001b[0m\u001b[0m\n\u001b[0;32m   1539\u001b[0m                                               \u001b[0munits\u001b[0m\u001b[1;33m=\u001b[0m\u001b[0munit_data\u001b[0m\u001b[1;33m,\u001b[0m\u001b[1;33m\u001b[0m\u001b[1;33m\u001b[0m\u001b[0m\n\u001b[1;32m-> 1540\u001b[1;33m                                               seed=seed)\n\u001b[0m\u001b[0;32m   1541\u001b[0m                             \u001b[0mconfint\u001b[0m\u001b[1;33m[\u001b[0m\u001b[0mi\u001b[0m\u001b[1;33m]\u001b[0m\u001b[1;33m.\u001b[0m\u001b[0mappend\u001b[0m\u001b[1;33m(\u001b[0m\u001b[0mutils\u001b[0m\u001b[1;33m.\u001b[0m\u001b[0mci\u001b[0m\u001b[1;33m(\u001b[0m\u001b[0mboots\u001b[0m\u001b[1;33m,\u001b[0m \u001b[0mci\u001b[0m\u001b[1;33m)\u001b[0m\u001b[1;33m)\u001b[0m\u001b[1;33m\u001b[0m\u001b[1;33m\u001b[0m\u001b[0m\n\u001b[0;32m   1542\u001b[0m \u001b[1;33m\u001b[0m\u001b[0m\n",
      "\u001b[1;32mF:\\Gil\\anaconda\\envs\\pm-tf24-cellpose\\lib\\site-packages\\seaborn\\algorithms.py\u001b[0m in \u001b[0;36mbootstrap\u001b[1;34m(*args, **kwargs)\u001b[0m\n\u001b[0;32m     82\u001b[0m     \u001b[1;32mfor\u001b[0m \u001b[0mi\u001b[0m \u001b[1;32min\u001b[0m \u001b[0mrange\u001b[0m\u001b[1;33m(\u001b[0m\u001b[0mint\u001b[0m\u001b[1;33m(\u001b[0m\u001b[0mn_boot\u001b[0m\u001b[1;33m)\u001b[0m\u001b[1;33m)\u001b[0m\u001b[1;33m:\u001b[0m\u001b[1;33m\u001b[0m\u001b[1;33m\u001b[0m\u001b[0m\n\u001b[0;32m     83\u001b[0m         \u001b[0mresampler\u001b[0m \u001b[1;33m=\u001b[0m \u001b[0mintegers\u001b[0m\u001b[1;33m(\u001b[0m\u001b[1;36m0\u001b[0m\u001b[1;33m,\u001b[0m \u001b[0mn\u001b[0m\u001b[1;33m,\u001b[0m \u001b[0mn\u001b[0m\u001b[1;33m,\u001b[0m \u001b[0mdtype\u001b[0m\u001b[1;33m=\u001b[0m\u001b[0mnp\u001b[0m\u001b[1;33m.\u001b[0m\u001b[0mintp\u001b[0m\u001b[1;33m)\u001b[0m  \u001b[1;31m# intp is indexing dtype\u001b[0m\u001b[1;33m\u001b[0m\u001b[1;33m\u001b[0m\u001b[0m\n\u001b[1;32m---> 84\u001b[1;33m         \u001b[0msample\u001b[0m \u001b[1;33m=\u001b[0m \u001b[1;33m[\u001b[0m\u001b[0ma\u001b[0m\u001b[1;33m.\u001b[0m\u001b[0mtake\u001b[0m\u001b[1;33m(\u001b[0m\u001b[0mresampler\u001b[0m\u001b[1;33m,\u001b[0m \u001b[0maxis\u001b[0m\u001b[1;33m=\u001b[0m\u001b[1;36m0\u001b[0m\u001b[1;33m)\u001b[0m \u001b[1;32mfor\u001b[0m \u001b[0ma\u001b[0m \u001b[1;32min\u001b[0m \u001b[0margs\u001b[0m\u001b[1;33m]\u001b[0m\u001b[1;33m\u001b[0m\u001b[1;33m\u001b[0m\u001b[0m\n\u001b[0m\u001b[0;32m     85\u001b[0m         \u001b[0mboot_dist\u001b[0m\u001b[1;33m.\u001b[0m\u001b[0mappend\u001b[0m\u001b[1;33m(\u001b[0m\u001b[0mf\u001b[0m\u001b[1;33m(\u001b[0m\u001b[1;33m*\u001b[0m\u001b[0msample\u001b[0m\u001b[1;33m,\u001b[0m \u001b[1;33m**\u001b[0m\u001b[0mfunc_kwargs\u001b[0m\u001b[1;33m)\u001b[0m\u001b[1;33m)\u001b[0m\u001b[1;33m\u001b[0m\u001b[1;33m\u001b[0m\u001b[0m\n\u001b[0;32m     86\u001b[0m     \u001b[1;32mreturn\u001b[0m \u001b[0mnp\u001b[0m\u001b[1;33m.\u001b[0m\u001b[0marray\u001b[0m\u001b[1;33m(\u001b[0m\u001b[0mboot_dist\u001b[0m\u001b[1;33m)\u001b[0m\u001b[1;33m\u001b[0m\u001b[1;33m\u001b[0m\u001b[0m\n",
      "\u001b[1;32mF:\\Gil\\anaconda\\envs\\pm-tf24-cellpose\\lib\\site-packages\\seaborn\\algorithms.py\u001b[0m in \u001b[0;36m<listcomp>\u001b[1;34m(.0)\u001b[0m\n\u001b[0;32m     82\u001b[0m     \u001b[1;32mfor\u001b[0m \u001b[0mi\u001b[0m \u001b[1;32min\u001b[0m \u001b[0mrange\u001b[0m\u001b[1;33m(\u001b[0m\u001b[0mint\u001b[0m\u001b[1;33m(\u001b[0m\u001b[0mn_boot\u001b[0m\u001b[1;33m)\u001b[0m\u001b[1;33m)\u001b[0m\u001b[1;33m:\u001b[0m\u001b[1;33m\u001b[0m\u001b[1;33m\u001b[0m\u001b[0m\n\u001b[0;32m     83\u001b[0m         \u001b[0mresampler\u001b[0m \u001b[1;33m=\u001b[0m \u001b[0mintegers\u001b[0m\u001b[1;33m(\u001b[0m\u001b[1;36m0\u001b[0m\u001b[1;33m,\u001b[0m \u001b[0mn\u001b[0m\u001b[1;33m,\u001b[0m \u001b[0mn\u001b[0m\u001b[1;33m,\u001b[0m \u001b[0mdtype\u001b[0m\u001b[1;33m=\u001b[0m\u001b[0mnp\u001b[0m\u001b[1;33m.\u001b[0m\u001b[0mintp\u001b[0m\u001b[1;33m)\u001b[0m  \u001b[1;31m# intp is indexing dtype\u001b[0m\u001b[1;33m\u001b[0m\u001b[1;33m\u001b[0m\u001b[0m\n\u001b[1;32m---> 84\u001b[1;33m         \u001b[0msample\u001b[0m \u001b[1;33m=\u001b[0m \u001b[1;33m[\u001b[0m\u001b[0ma\u001b[0m\u001b[1;33m.\u001b[0m\u001b[0mtake\u001b[0m\u001b[1;33m(\u001b[0m\u001b[0mresampler\u001b[0m\u001b[1;33m,\u001b[0m \u001b[0maxis\u001b[0m\u001b[1;33m=\u001b[0m\u001b[1;36m0\u001b[0m\u001b[1;33m)\u001b[0m \u001b[1;32mfor\u001b[0m \u001b[0ma\u001b[0m \u001b[1;32min\u001b[0m \u001b[0margs\u001b[0m\u001b[1;33m]\u001b[0m\u001b[1;33m\u001b[0m\u001b[1;33m\u001b[0m\u001b[0m\n\u001b[0m\u001b[0;32m     85\u001b[0m         \u001b[0mboot_dist\u001b[0m\u001b[1;33m.\u001b[0m\u001b[0mappend\u001b[0m\u001b[1;33m(\u001b[0m\u001b[0mf\u001b[0m\u001b[1;33m(\u001b[0m\u001b[1;33m*\u001b[0m\u001b[0msample\u001b[0m\u001b[1;33m,\u001b[0m \u001b[1;33m**\u001b[0m\u001b[0mfunc_kwargs\u001b[0m\u001b[1;33m)\u001b[0m\u001b[1;33m)\u001b[0m\u001b[1;33m\u001b[0m\u001b[1;33m\u001b[0m\u001b[0m\n\u001b[0;32m     86\u001b[0m     \u001b[1;32mreturn\u001b[0m \u001b[0mnp\u001b[0m\u001b[1;33m.\u001b[0m\u001b[0marray\u001b[0m\u001b[1;33m(\u001b[0m\u001b[0mboot_dist\u001b[0m\u001b[1;33m)\u001b[0m\u001b[1;33m\u001b[0m\u001b[1;33m\u001b[0m\u001b[0m\n",
      "\u001b[1;31mKeyboardInterrupt\u001b[0m: "
     ]
    },
    {
     "data": {
      "image/png": "[encoded data removed]",
      "text/plain": [
       "<Figure size 504x360 with 4 Axes>"
      ]
     },
     "metadata": {
      "needs_background": "light"
     },
     "output_type": "display_data"
    }
   ],
   "source": [
    "import numpy as np\n",
    "import os\n",
    "import pandas as pd\n",
    "import matplotlib as plt\n",
    "import random\n",
    "import matplotlib.pyplot as plt\n",
    "import seaborn as sns\n",
    "import matplotlib.pyplot as plt\n",
    "from matplotlib.colors import to_rgba\n",
    "import seaborn as sns\n",
    "import glob\n",
    "import re\n",
    "import warnings\n",
    "warnings.filterwarnings('ignore')\n",
    "Data_path = r\"F:\\HAB_2\\PrinzScreen\\AIPS_simulation\\AIPS_simulation\\data\\20230331\\*.csv\"\n",
    "files = glob.glob(Data_path)\n",
    "files = [files[0],files[4],files[5],files[6],files[7],files[8],files[9],files[10],files[11],files[1],files[2],files[3]]\n",
    "def TableTollGen(fileName,index = [0,1,2]):\n",
    "    df2 = pd.read_csv(fileName[index[0]])\n",
    "    df4 = pd.read_csv(fileName[index[0]])\n",
    "    df5 = pd.read_csv(fileName[index[0]])\n",
    "\n",
    "    df2 = df2.loc[:,['Gene','sgRNA','reads_ctrl', 'reads_activate']]\n",
    "    df2 = df2.rename(columns={'reads_ctrl': \"1ctrl\", \"reads_activate\": \"4activate\"})\n",
    "\n",
    "    df4 = df4.loc[:,['Gene','sgRNA','reads_ctrl', 'reads_activate']]\n",
    "    df4 = df4.rename(columns={'reads_ctrl': \"2ctrl\", \"reads_activate\": \"5activate\"})\n",
    "\n",
    "    df5 = df5.loc[:,['Gene','sgRNA','reads_ctrl', 'reads_activate']]\n",
    "    df5 = df5.rename(columns={'reads_ctrl': \"3ctrl\", \"reads_activate\": \"6activate\"})\n",
    "\n",
    "    df = pd.merge(df4,df5, on='sgRNA')\n",
    "    df = df.drop('Gene_y', 1) # drop duplicate info\n",
    "\n",
    "    df = pd.merge(df,df2, on='sgRNA')\n",
    "    df = df.drop('Gene', 1) # drop duplicate info\n",
    "    # remove non\n",
    "    df = df.drop(index=df.loc[df.Gene_x.str.contains('non'),:].index)\n",
    "    df = pd.DataFrame({'Gene':df.Gene_x,'1ctrl':df['1ctrl'],'2ctrl':df['2ctrl'],\n",
    "                 '3ctrl':df['3ctrl'],'4activate':df['4activate'],'5activate':df['5activate'],\n",
    "                  '6activate':df['6activate']})\n",
    "    dfTall = pd.melt(df,id_vars = ['Gene'], value_vars=['1ctrl', '2ctrl','3ctrl',\n",
    "                                                     '4activate', '5activate', '6activate'])\n",
    "    dfTall['Condition'] = 1\n",
    "    dfTall.loc[dfTall.variable.str.contains('ctrl'),'Condition'] = 0\n",
    "    idxCtrl = dfTall.loc[dfTall.Condition == 0,:].index\n",
    "    idxActive = dfTall.loc[dfTall.Condition == 1,:].index\n",
    "    dfTall_oneHot = pd.get_dummies(dfTall, columns = ['Condition','variable','Gene'])\n",
    "\n",
    "    CtrlValue_Target = dfTall.loc[idxCtrl,'value'].to_numpy()\n",
    "    ActiveValue_Target = dfTall.loc[idxActive,'value'].to_numpy()\n",
    "    \n",
    "    #median Normalization\n",
    "    CtrlValue_Target = CtrlValue_Target/np.median(CtrlValue_Target)\n",
    "    ActiveValue_Target = ActiveValue_Target/np.median(ActiveValue_Target)\n",
    "    \n",
    "    GeneToNUmber = {key:i for i, key in enumerate(np.unique(dfTall.loc[idxCtrl,'Gene'].to_numpy()))}\n",
    "    GeneNames = dfTall.loc[idxCtrl,'Gene'].to_list()\n",
    "    NumberToGene = [GeneToNUmber[gene] for gene in GeneNames]\n",
    "    dfSum = pd.DataFrame({'Gene':dfTall.loc[idxCtrl,'Gene'].to_numpy(),'GeneNum':NumberToGene,\n",
    "                         'FC (median)':ActiveValue_Target/CtrlValue_Target})\n",
    "    \n",
    "    \n",
    "    \n",
    "    dfSum['PEX'] = 0\n",
    "    dfSum.loc[dfSum.Gene.str.contains('PEX'),'PEX'] =1\n",
    "    return dfSum\n",
    "df_HighEf_lowFP = TableTollGen(files,index = [0,1,2])\n",
    "df_HighEf_HigFP = TableTollGen(files,index = [3,4,5])\n",
    "df_LowEf_lowFP = TableTollGen(files,index = [6,7,8])\n",
    "df_LowEf_HigFP = TableTollGen(files,index = [9,10,11])\n",
    "\n",
    "import matplotlib.pyplot as plt\n",
    "from matplotlib.colors import to_rgba\n",
    "import seaborn as sns\n",
    "\n",
    "title = [\"~100,000 cells \\n True Postive range: 10% to 50% \\n Efficent guides 45/50\",\n",
    "        \"~100,000 cells \\n True Postive range: 1% to 10% \\n Efficent guides 45/50\",\n",
    "        \"~100,000 cells \\n True Postive range: 10% to 50% \\n Efficent guides 5/50\",\n",
    "        \"~100,000 cells \\n True Postive range: 1% to 10% \\n Efficent guides 5/50\"]\n",
    "\n",
    "\n",
    "fig, axs = plt.subplots(2, 2, figsize=(7, 5))\n",
    "color_dict = {0: to_rgba('cornflowerblue', 1),\n",
    "              1: to_rgba('crimson', 0.7),\n",
    "              0: to_rgba('turquoise', 0.4)}\n",
    "# axs[0,0].xlabel(None)\n",
    "# axs[0,1].xlabel(None)\n",
    "# axs[1,0].xlabel(None)\n",
    "# axs[1,1].xlabel(None)\n",
    "axs[0,0].tick_params(axis='y', which='major', labelsize=12)\n",
    "axs[0,1].tick_params(axis='y', which='major', labelsize=12)\n",
    "axs[1,0].tick_params(axis='y', which='major', labelsize=12)\n",
    "axs[1,1].tick_params(axis='y', which='major', labelsize=12)\n",
    "axs[0,0].tick_params(axis='x', which='major', labelsize=0)\n",
    "axs[0,1].tick_params(axis='x', which='major', labelsize=0)\n",
    "axs[1,0].tick_params(axis='x', which='major', labelsize=0)\n",
    "axs[1,1].tick_params(axis='x', which='major', labelsize=0)\n",
    "axs[0,0].tick_params(bottom = False)\n",
    "axs[0,1].tick_params(bottom = False)\n",
    "axs[1,0].tick_params(bottom = False)\n",
    "axs[1,1].tick_params(bottom = False)\n",
    "axs[0,0].set_ylim(0, 6)\n",
    "axs[0,1].set_ylim(0, 6)\n",
    "axs[1,0].set_ylim(0, 6)\n",
    "axs[1,1].set_ylim(0, 6)\n",
    "\n",
    "\n",
    "sns.pointplot(data = df_HighEf_HigFP, x='GeneNum', y='FC (median)', hue='PEX', palette = color_dict,ax = axs[0,0])\n",
    "sns.pointplot(data = df_HighEf_lowFP, x='GeneNum', y='FC (median)', hue='PEX', palette = color_dict,ax = axs[0,1])\n",
    "sns.pointplot(data = df_LowEf_HigFP, x='GeneNum', y='FC (median)', hue='PEX', palette = color_dict,ax = axs[1,0])\n",
    "sns.pointplot(data = df_LowEf_lowFP, x='GeneNum', y='FC (median)', hue='PEX', palette = color_dict,ax = axs[1,1])\n",
    "axs[0,0].set_title(title[0], fontsize=12)\n",
    "axs[0,1].set_title(title[1], fontsize=12)\n",
    "axs[1,0].set_title(title[2], fontsize=12)\n",
    "axs[1,1].set_title(title[3], fontsize=12)\n",
    "sns.move_legend(axs[0,0], loc = \"upper left\", fontsize = 6,title_fontsize = 6,markerscale = 0.5)\n",
    "sns.move_legend(axs[0,1], loc = \"upper left\", fontsize = 6,title_fontsize = 6,markerscale = 0.5)\n",
    "sns.move_legend(axs[1,0], loc = \"upper left\", fontsize = 6,title_fontsize = 6,markerscale = 0.5)\n",
    "sns.move_legend(axs[1,1], loc = \"upper left\", fontsize = 6,title_fontsize = 6,markerscale = 0.5)\n",
    "\n",
    "\n",
    "plt.subplots_adjust(hspace=0.8,wspace=0.4)\n",
    "\n",
    "plt.tight_layout()\n",
    "plt.show()"
   ]
  },
  {
   "cell_type": "code",
   "execution_count": null,
   "id": "edb8bd20",
   "metadata": {},
   "outputs": [],
   "source": []
  }
 ],
 "metadata": {
  "hide_input": false,
  "kernelspec": {
   "display_name": "Python 3 (ipykernel)",
   "language": "python",
   "name": "python3"
  },
  "language_info": {
   "codemirror_mode": {
    "name": "ipython",
    "version": 3
   },
   "file_extension": ".py",
   "mimetype": "text/x-python",
   "name": "python",
   "nbconvert_exporter": "python",
   "pygments_lexer": "ipython3",
   "version": "3.7.12"
  },
  "latex_envs": {
   "LaTeX_envs_menu_present": true,
   "autoclose": false,
   "autocomplete": true,
   "bibliofile": "biblio.bib",
   "cite_by": "apalike",
   "current_citInitial": 1,
   "eqLabelWithNumbers": true,
   "eqNumInitial": 1,
   "hotkeys": {
    "equation": "Ctrl-E",
    "itemize": "Ctrl-I"
   },
   "labels_anchors": false,
   "latex_user_defs": false,
   "report_style_numbering": false,
   "user_envs_cfg": false
  },
  "toc": {
   "base_numbering": 1,
   "nav_menu": {},
   "number_sections": true,
   "sideBar": true,
   "skip_h1_title": false,
   "title_cell": "Table of Contents",
   "title_sidebar": "Contents",
   "toc_cell": false,
   "toc_position": {},
   "toc_section_display": true,
   "toc_window_display": false
  },
  "varInspector": {
   "cols": {
    "lenName": 16,
    "lenType": 16,
    "lenVar": 40
   },
   "kernels_config": {
    "python": {
     "delete_cmd_postfix": "",
     "delete_cmd_prefix": "del ",
     "library": "var_list.py",
     "varRefreshCmd": "print(var_dic_list())"
    },
    "r": {
     "delete_cmd_postfix": ") ",
     "delete_cmd_prefix": "rm(",
     "library": "var_list.r",
     "varRefreshCmd": "cat(var_dic_list()) "
    }
   },
   "types_to_exclude": [
    "module",
    "function",
    "builtin_function_or_method",
    "instance",
    "_Feature"
   ],
   "window_display": false
  }
 },
 "nbformat": 4,
 "nbformat_minor": 5
}
