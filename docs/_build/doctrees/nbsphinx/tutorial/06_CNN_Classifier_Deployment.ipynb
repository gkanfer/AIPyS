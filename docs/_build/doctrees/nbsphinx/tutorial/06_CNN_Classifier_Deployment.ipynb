{
 "cells": [
  {
   "cell_type": "markdown",
   "id": "891e2325",
   "metadata": {},
   "source": [
    "Instead of using Bayes Granularity to deploy a model, the AIPyS Convolutional Neural Network (CNN) model can be used for detecting the desired phenotypes. To use the CNN model, it must be exported and then utilized with the Nikon NIS Elements HCT package. A bash file is used to instruct the NIS jobs module to run the AIPyS.\n",
    "\n",
    "```bash\n",
    "@echo on\n",
    "call activate AIPys_conda_env\n",
    "call python D:\\run_CNN_Classifier.py\n",
    "@pause\n",
    "```\n",
    "\n",
    "When obtaining an image, a single-channel image is taken and then stored on the local system.\n",
    "\n",
    "```python\n",
    "from AIPyS.Baysian_deploy import BayesianGranularityDeploy\n",
    "file_name = 'input.tif'\n",
    "path_model = 'data'\n",
    "path_input = 'C:\\NIS\\outproc'\n",
    "path_out = path_input\n",
    "\n",
    "CNNDeploy(path_model = path_model, model = 'cnn.h5',\n",
    "          file_name = file_name, path = path_input, pathOut = path_out,\n",
    "          areaFilter = 1500, thr=0.5)\n",
    "```\n",
    "\n",
    "The CNNDeploy function returns a binary mask of the cells that represent the chosen phenotype. This mask is saved as binary.tif and then uploaded to the NIS-Elements module, where it is converted into a Region of Interest (ROI). The simulation module then takes the photostimulation raster and uses a UV laser to activate those regions.\n"
   ]
  },
  {
   "cell_type": "code",
   "execution_count": null,
   "id": "db516dba",
   "metadata": {},
   "outputs": [],
   "source": []
  }
 ],
 "metadata": {
  "hide_input": false,
  "kernelspec": {
   "display_name": "Python [conda env:pm-tf24-cellpose] *",
   "language": "python",
   "name": "conda-env-pm-tf24-cellpose-py"
  },
  "language_info": {
   "codemirror_mode": {
    "name": "ipython",
    "version": 3
   },
   "file_extension": ".py",
   "mimetype": "text/x-python",
   "name": "python",
   "nbconvert_exporter": "python",
   "pygments_lexer": "ipython3",
   "version": "3.7.12"
  },
  "latex_envs": {
   "LaTeX_envs_menu_present": true,
   "autoclose": false,
   "autocomplete": true,
   "bibliofile": "biblio.bib",
   "cite_by": "apalike",
   "current_citInitial": 1,
   "eqLabelWithNumbers": true,
   "eqNumInitial": 1,
   "hotkeys": {
    "equation": "Ctrl-E",
    "itemize": "Ctrl-I"
   },
   "labels_anchors": false,
   "latex_user_defs": false,
   "report_style_numbering": false,
   "user_envs_cfg": false
  },
  "toc": {
   "base_numbering": 1,
   "nav_menu": {},
   "number_sections": true,
   "sideBar": true,
   "skip_h1_title": false,
   "title_cell": "Table of Contents",
   "title_sidebar": "Contents",
   "toc_cell": false,
   "toc_position": {},
   "toc_section_display": true,
   "toc_window_display": false
  }
 },
 "nbformat": 4,
 "nbformat_minor": 5
}
