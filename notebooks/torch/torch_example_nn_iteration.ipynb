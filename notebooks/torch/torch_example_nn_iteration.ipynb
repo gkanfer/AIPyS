{
 "cells": [
  {
   "cell_type": "code",
   "execution_count": 24,
   "id": "9b2b80e5",
   "metadata": {},
   "outputs": [
    {
     "name": "stdout",
     "output_type": "stream",
     "text": [
      "True 4\n"
     ]
    }
   ],
   "source": [
    "import torch\n",
    "print(torch.cuda.is_available(), torch.cuda.device_count())\n",
    "import torchvision\n",
    "from torchvision import transforms\n",
    "from torchvision.datasets import ImageFolder\n",
    "import glob\n",
    "import shutil\n",
    "import torch.nn as nn\n",
    "import torch.nn.functional as F\n",
    "from torch.utils.data.dataloader import DataLoader\n",
    "from torch.utils.data import random_split\n"
   ]
  },
  {
   "cell_type": "markdown",
   "id": "319916ca",
   "metadata": {},
   "source": [
    "https://medium.com/thecyphy/train-cnn-model-with-pytorch-21dafb918f48"
   ]
  },
  {
   "cell_type": "code",
   "execution_count": 25,
   "id": "ba7c2379",
   "metadata": {},
   "outputs": [
    {
     "name": "stdout",
     "output_type": "stream",
     "text": [
      "torch.Size([3, 150, 150]) 0\n",
      "Follwing classes are there : \n",
      " ['PEX', 'WT']\n",
      "Length of Train Data : 12000\n",
      "Length of Validation Data : 3000\n"
     ]
    }
   ],
   "source": [
    "data_dir = '/data/kanferg/Images/Pex_project/SIngle_cell_images_training_set/01242024/pytorch_test/seg_train/'\n",
    "test_data_dir = '/data/kanferg/Images/Pex_project/SIngle_cell_images_training_set/01242024/pytorch_test/seg_test/'\n",
    "\n",
    "dataset = ImageFolder(data_dir,transform = transforms.Compose([\n",
    "    transforms.Resize((150,150)),transforms.ToTensor()\n",
    "]))\n",
    "test_dataset = ImageFolder(test_data_dir,transforms.Compose([\n",
    "    transforms.Resize((150,150)),transforms.ToTensor()\n",
    "]))\n",
    "\n",
    "img, label = dataset[0]\n",
    "\n",
    "print(img.shape,label) \n",
    "print(\"Follwing classes are there : \\n\",dataset.classes)\n",
    "\n",
    "batch_size = 30\n",
    "val_size = 3000\n",
    "train_size = len(dataset) - val_size \n",
    "\n",
    "train_data,val_data = random_split(dataset,[train_size,val_size])\n",
    "print(f\"Length of Train Data : {len(train_data)}\")\n",
    "print(f\"Length of Validation Data : {len(val_data)}\")\n",
    "\n",
    "#output\n",
    "#Length of Train Data : 15000*0.8\n",
    "#Length of Validation Data : 15000*0.2\n",
    "\n",
    "#load the train and validation into batches.\n",
    "# train_dl = DataLoader(train_data, batch_size, shuffle = True, num_workers = 4, pin_memory = True)\n",
    "# val_dl = DataLoader(val_data, batch_size, num_workers = 4, pin_memory = True)\n",
    "train_dl = DataLoader(train_data, batch_size, shuffle = True, pin_memory = True)\n",
    "val_dl = DataLoader(val_data, batch_size, pin_memory = True)"
   ]
  },
  {
   "cell_type": "code",
   "execution_count": 26,
   "id": "4edf2b92",
   "metadata": {},
   "outputs": [],
   "source": [
    "for i, data in enumerate(train_dl, 0):\n",
    "    # get the inputs; data is a list of [inputs, labels]\n",
    "    inputs, labels = data\n",
    "    if i  == 0:\n",
    "        break"
   ]
  },
  {
   "cell_type": "code",
   "execution_count": 20,
   "id": "28fbcd5d",
   "metadata": {},
   "outputs": [
    {
     "data": {
      "text/plain": [
       "torch.Size([30, 3, 150, 150])"
      ]
     },
     "execution_count": 20,
     "metadata": {},
     "output_type": "execute_result"
    }
   ],
   "source": [
    "inputs.shape"
   ]
  },
  {
   "cell_type": "code",
   "execution_count": 21,
   "id": "1f6c4a11",
   "metadata": {},
   "outputs": [
    {
     "data": {
      "text/plain": [
       "torch.Size([30, 1])"
      ]
     },
     "execution_count": 21,
     "metadata": {},
     "output_type": "execute_result"
    }
   ],
   "source": [
    "labels.view(-1, 1) .shape"
   ]
  },
  {
   "cell_type": "code",
   "execution_count": 22,
   "id": "b9920065",
   "metadata": {},
   "outputs": [
    {
     "data": {
      "text/plain": [
       "torch.float32"
      ]
     },
     "execution_count": 22,
     "metadata": {},
     "output_type": "execute_result"
    }
   ],
   "source": [
    "inputs.dtype"
   ]
  },
  {
   "cell_type": "code",
   "execution_count": 23,
   "id": "2a2ad80c",
   "metadata": {},
   "outputs": [],
   "source": [
    "for i, data in enumerate(train_dl, 0):\n",
    "    # get the inputs; data is a list of [inputs, labels]\n",
    "    inputs, labels = data\n",
    "    if i  == 0:\n",
    "        break\n",
    "labels = labels.view(-1, 1)\n",
    "input_tensor = torch.randn(30, 3, 150, 150)\n",
    "b1 = nn.Sequential(nn.Conv2d(in_channels=3, out_channels=16, kernel_size=3),\n",
    "                            nn.BatchNorm2d(16),\n",
    "                            nn.ReLU(),\n",
    "                            nn.MaxPool2d(2,2))\n",
    "b1(input_tensor).shape\n",
    "b2 = nn.Sequential(nn.Conv2d(in_channels=16, out_channels=64, kernel_size=3),\n",
    "                            nn.BatchNorm2d(64),\n",
    "                            nn.ReLU(),\n",
    "                            nn.MaxPool2d(2,2)\n",
    "                            )\n",
    "b3 = nn.Sequential(nn.Conv2d(in_channels=64, out_channels=128, kernel_size=3),\n",
    "                            nn.BatchNorm2d(128),\n",
    "                            nn.ReLU(),\n",
    "                            nn.MaxPool2d(2,2)\n",
    "                            )\n",
    "b4 = nn.Sequential(nn.Conv2d(in_channels=128, out_channels=128, kernel_size=3),\n",
    "                            nn.BatchNorm2d(128),\n",
    "                            nn.ReLU(),\n",
    "                            nn.MaxPool2d(2,2)\n",
    "                            )\n",
    "b5 = nn.Sequential(nn.Flatten(),\n",
    "                                        nn.Linear(7*7*128, 512),\n",
    "                                        nn.ReLU(),\n",
    "                                        nn.Dropout(0.3),\n",
    "                                        nn.Linear(512, 512), \n",
    "                                        nn.ReLU(),\n",
    "                                        nn.Dropout(0.3),\n",
    "                                        nn.Linear(512, 1),\n",
    "                                        nn.Softmax()\n",
    "                                        )\n",
    "b5(b4(b3(b2(b1(input_tensor))))).shape\n",
    "criterion = nn.BCEWithLogitsLoss()\n",
    "loss = criterion(b5(b4(b3(b2(b1(input_tensor))))), labels.float())\n",
    "loss.backward()"
   ]
  },
  {
   "cell_type": "code",
   "execution_count": 27,
   "id": "33908328",
   "metadata": {},
   "outputs": [],
   "source": [
    "for i, data in enumerate(train_dl, 0):\n",
    "    # get the inputs; data is a list of [inputs, labels]\n",
    "    inputs, labels = data\n",
    "    if i  == 0:\n",
    "        break"
   ]
  },
  {
   "cell_type": "code",
   "execution_count": 28,
   "id": "42622275",
   "metadata": {},
   "outputs": [
    {
     "ename": "NameError",
     "evalue": "name 'NaturalSceneClassification' is not defined",
     "output_type": "error",
     "traceback": [
      "\u001b[0;31m---------------------------------------------------------------------------\u001b[0m",
      "\u001b[0;31mNameError\u001b[0m                                 Traceback (most recent call last)",
      "Cell \u001b[0;32mIn[28], line 1\u001b[0m\n\u001b[0;32m----> 1\u001b[0m model \u001b[38;5;241m=\u001b[39m \u001b[43mNaturalSceneClassification\u001b[49m()\u001b[38;5;241m.\u001b[39mto(device)\n",
      "\u001b[0;31mNameError\u001b[0m: name 'NaturalSceneClassification' is not defined"
     ]
    }
   ],
   "source": [
    "model = NaturalSceneClassification().to(device)"
   ]
  },
  {
   "cell_type": "code",
   "execution_count": null,
   "id": "60bcec00",
   "metadata": {},
   "outputs": [],
   "source": []
  }
 ],
 "metadata": {
  "kernelspec": {
   "display_name": "Python 3 (ipykernel)",
   "language": "python",
   "name": "python3"
  },
  "language_info": {
   "codemirror_mode": {
    "name": "ipython",
    "version": 3
   },
   "file_extension": ".py",
   "mimetype": "text/x-python",
   "name": "python",
   "nbconvert_exporter": "python",
   "pygments_lexer": "ipython3",
   "version": "3.11.7"
  }
 },
 "nbformat": 4,
 "nbformat_minor": 5
}
