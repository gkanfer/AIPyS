{
 "cells": [
  {
   "cell_type": "code",
   "execution_count": null,
   "id": "eef083d3-426f-456d-a89b-8c994b8927a9",
   "metadata": {},
   "outputs": [],
   "source": [
    "import torch\n",
    "print(torch.cuda.is_available(), torch.cuda.device_count())\n",
    "import torchvision\n",
    "from torchvision import transforms\n",
    "from torchvision.datasets import ImageFolder\n",
    "import glob\n",
    "import matplotlib.pyplot as plt\n",
    "import shutil\n",
    "import torch.nn as nn\n",
    "import torch.nn.functional as F\n",
    "device = torch.device(\"cuda\")\n",
    "from torch.utils.data.dataloader import DataLoader\n",
    "from torch.utils.data import random_split\n",
    "from IPython.core.debugger import set_trace"
   ]
  },
  {
   "cell_type": "code",
   "execution_count": null,
   "id": "de82601c-de7d-443a-9370-6bd5f4500165",
   "metadata": {},
   "outputs": [],
   "source": [
    "import numpy as np\n",
    "import os\n",
    "import skimage.io\n",
    "import matplotlib.pyplot as plt\n",
    "from cellpose import models, core\n",
    "import pandas as pd\n",
    "from scipy.stats import skew\n",
    "import glob\n",
    "from PIL import Image, ImageDraw,ImageFont\n",
    "from skimage import img_as_ubyte\n",
    "from skimage.draw import disk\n",
    "from skimage import measure\n"
   ]
  },
  {
   "cell_type": "code",
   "execution_count": null,
   "id": "80332e19-ed8f-4df8-ae79-891c5734c89b",
   "metadata": {},
   "outputs": [],
   "source": [
    "import Granularity_cellprofiler as GP\n",
    "import glob"
   ]
  },
  {
   "cell_type": "code",
   "execution_count": null,
   "id": "c141b5a1-6a41-42c8-850e-52253ffad335",
   "metadata": {},
   "outputs": [],
   "source": [
    "data_dir = '/data/kanferg/Images/Pex_project/Subrah_2024/022419_catGFP/class1/'\n",
    "files = glob.glob(data_dir + '*tif')\n",
    "GP.ImageExploration(image_list = files[:3],diameter_cp = 100).getImageDetails()"
   ]
  },
  {
   "cell_type": "code",
   "execution_count": null,
   "id": "ef454c4a-b696-40c2-ad42-c9087dac553a",
   "metadata": {},
   "outputs": [],
   "source": [
    "GP.ImageExploration(image_list = files[:3],diameter_cp = 100).getMeanStd()"
   ]
  },
  {
   "cell_type": "code",
   "execution_count": null,
   "id": "63c97613-e230-4007-92ec-9a0153ffb1a8",
   "metadata": {},
   "outputs": [],
   "source": [
    "GP.ImageExploration(image_list = files[:3],diameter_cp = 100).getCellPerImage()"
   ]
  },
  {
   "cell_type": "code",
   "execution_count": null,
   "id": "6e10627b-bc12-440d-9f05-e39e9290b216",
   "metadata": {},
   "outputs": [],
   "source": [
    "import numpy as np\n",
    "np.linspace(2, 60, 10, endpoint=True, dtype=int)"
   ]
  },
  {
   "cell_type": "code",
   "execution_count": 1,
   "id": "e0a886ab-4dc8-48fd-9c59-207762869e8c",
   "metadata": {},
   "outputs": [],
   "source": [
    "# create a kernel lost video\n",
    "import Granularity_cellprofiler as GP\n",
    "import glob\n",
    "data_dir = '/data/kanferg/Images/Pex_project/Subrah_2024/022419_catGFP/class1/'\n",
    "files = glob.glob(data_dir + '*tif')\n",
    "outFolder = '/data/kanferg/Images/Pex_project/Subrah_2024/022419_catGFP/videos'\n",
    "GP.ImageExploration(image_list = files[:3],diameter_cp = 100).kernelLossVideo(pathout = outFolder,start_kernel = 2 , end_karnel = 20, kernel_size=10,ci = 1)"
   ]
  },
  {
   "cell_type": "code",
   "execution_count": null,
   "id": "f03f7f26-932a-4d1c-ac25-445b4b0575bf",
   "metadata": {},
   "outputs": [],
   "source": [
    "# Load the kernel video\n",
    "from IPython.display import HTML\n",
    "from base64 import b64encode\n",
    "\n",
    "# Load video\n",
    "video_path = os.path.join(outFolder,'kernelLoss.avi')\n",
    "video_file = open(video_path, \"rb\").read() \n",
    "\n",
    "# Convert video to base64\n",
    "video_encoded = b64encode(video_file).decode('ascii')\n",
    "\n",
    "# Create HTML string and display video\n",
    "HTML(data=f'''\n",
    "<video alt=\"test\" controls>\n",
    "<source src=\"data:video/avi;base64,{video_encoded}\" type=\"video/avi\">\n",
    "</video>''')"
   ]
  },
  {
   "cell_type": "code",
   "execution_count": null,
   "id": "db528470-c7c0-4be2-99d2-05a8c6eb2fab",
   "metadata": {},
   "outputs": [],
   "source": [
    "import Granularity_cellprofiler as GP\n",
    "import glob\n",
    "data_dir = '/data/kanferg/Images/Pex_project/Subrah_2024/022419_catGFP/class1/'\n",
    "files = glob.glob(data_dir + '*tif')\n",
    "path = '/data/kanferg/Images/Pex_project/Subrah_2024/022419_catGFP/zoomInImage'\n",
    "GP.Granularity(image_list = files, pathOrig = path, meanInten = 960,stdInten = 225, kernel =20, windowSize = 3, rnadomWindows = 7).granCalc()"
   ]
  },
  {
   "cell_type": "code",
   "execution_count": null,
   "id": "21ea5aaf-0d09-4bf7-95a7-6ef24437a28b",
   "metadata": {},
   "outputs": [],
   "source": [
    "import Granularity_cellprofiler as GP\n",
    "import glob\n",
    "import os"
   ]
  },
  {
   "cell_type": "code",
   "execution_count": null,
   "id": "a47cc63b-be6d-4921-9541-c620c9e0d245",
   "metadata": {
    "scrolled": true
   },
   "outputs": [],
   "source": [
    "data_dir = glob.glob('/data/kanferg/Images/Pex_project/Subrah_2024/022419_catGFP/zoomInImage/*')\n",
    "PathimageName = list(set(data_dir))\n",
    "imageName = [os.path.basename(path) for path in PathimageName]\n",
    "origFolder = '/data/kanferg/Images/Pex_project/Subrah_2024/022419_catGFP/zoomInImage/'\n",
    "outFolder = '/data/kanferg/Images/Pex_project/Subrah_2024/022419_catGFP/videos'\n",
    "GP.ImageToVideo(origFolder = origFolder,imageNames = imageName ,outFolder = outFolder)\n",
    "#for name in imageName.keys()\n",
    "#glob.glob(data_dir + 'ZoomInImages/*/ImageSplit/*tif')"
   ]
  },
  {
   "cell_type": "code",
   "execution_count": null,
   "id": "5bad024e-05c8-4ea6-bdf5-541a63432024",
   "metadata": {},
   "outputs": [],
   "source": [
    "from tifffile import imread\n",
    "import cv2\n",
    "import os\n",
    "import numpy as np\n",
    "from PIL import Image\n",
    "import glob\n",
    "\n",
    "data_dir = glob.glob('/data/kanferg/Images/Pex_project/Subrah_2024/022419_catGFP/ZoomInImages/*')\n",
    "PathimageName = list(set(data_dir))\n",
    "imageName = [os.path.basename(path) for path in PathimageName]\n",
    "origFolder = '/data/kanferg/Images/Pex_project/Subrah_2024/022419_catGFP/ZoomInImages/'\n",
    "outFolder = '/data/kanferg/Images/Pex_project/Subrah_2024/022419_catGFP/videos'"
   ]
  },
  {
   "cell_type": "code",
   "execution_count": null,
   "id": "caf07088-965a-4e4e-a31d-d1f57c85606a",
   "metadata": {},
   "outputs": [],
   "source": [
    "files = glob.glob(origFolder + imageName[0] + '/ImageSplit/*tif')\n",
    "frame = Image.open(files[0])\n",
    "frame = np.array(frame)"
   ]
  },
  {
   "cell_type": "code",
   "execution_count": null,
   "id": "e3736629-702c-4eb3-a4a2-80dbb70b03bf",
   "metadata": {},
   "outputs": [],
   "source": [
    "frame.shape"
   ]
  },
  {
   "cell_type": "code",
   "execution_count": null,
   "id": "26a91297-4613-4096-9deb-cd11beba2df5",
   "metadata": {},
   "outputs": [],
   "source": [
    "def images_to_video(image_folder, video_name,outFolder, frame_rate):\n",
    "    images = [img for img in os.listdir(image_folder) if img.endswith(\".tif\")]\n",
    "    # Sort the images by name\n",
    "    images.sort()\n",
    "\n",
    "    # Load the first image and get its dimensions\n",
    "    frame = Image.open(os.path.join(image_folder, images[0]))\n",
    "    frame = np.array(frame)\n",
    "    \n",
    "    height, width = frame.shape\n",
    "\n",
    "    # Initialize the video writer\n",
    "    video = cv2.VideoWriter(os.path.join(outFolder,video_name), cv2.VideoWriter_fourcc(*'DIVX'), frame_rate, (width,height), isColor=False)\n",
    "\n",
    "    # Iterate over all images\n",
    "    for image in images:\n",
    "        # Open the image and append it to the video\n",
    "        frame = Image.open(os.path.join(image_folder, image))\n",
    "        frame = np.array(frame)\n",
    "        \n",
    "        # Since the color depth of the image and the video may differ, we normalize the images to 8 bit before adding them to the video\n",
    "        frame = ((frame - frame.min()) / (frame.ptp()) * 255).astype(np.uint8)\n",
    "        \n",
    "        # Write the frame to the video\n",
    "        video.write(frame)\n",
    "\n",
    "    # Release the video file\n",
    "    video.release()"
   ]
  },
  {
   "cell_type": "code",
   "execution_count": null,
   "id": "dec9f09b-d067-4889-855d-c68dadf66e4c",
   "metadata": {},
   "outputs": [],
   "source": [
    "image_folder = origFolder + imageName[0] + '/ImageSplit/'\n",
    "images = [img for img in os.listdir(image_folder) if img.endswith(\".tif\")]\n",
    "frame = Image.open(os.path.join(image_folder, images[0]))\n",
    "frame = np.array(frame)\n",
    "height, width = frame.shape\n",
    "video = cv2.VideoWriter(os.path.join(outFolder,'output_video1.avi'), cv2.VideoWriter_fourcc(*'DIVX'), 30, (width,height), isColor=False)\n",
    "video.write(frame)\n",
    "for image in images:\n",
    "    frame = Image.open(os.path.join(image_folder, image))\n",
    "    frame = np.array(frame)\n",
    "    frame = ((frame - frame.min()) / (frame.ptp()) * 255).astype(np.uint8)\n",
    "    video.write(frame)\n",
    "video.release()"
   ]
  },
  {
   "cell_type": "code",
   "execution_count": null,
   "id": "189a4636-3756-4ba9-932b-0ffcaee03309",
   "metadata": {},
   "outputs": [],
   "source": [
    "def rgbImge(image_input):\n",
    "    input_gs_image = (image_input / image_input.max()) * 255\n",
    "    ch2_u8 = np.uint8(input_gs_image)\n",
    "    rgb_input_img = np.zeros((np.shape(ch2_u8)[0], np.shape(ch2_u8)[1], 3), dtype=np.uint8)\n",
    "    rgb_input_img[:, :, 0] = ch2_u8\n",
    "    rgb_input_img[:, :, 1] = ch2_u8\n",
    "    rgb_input_img[:, :, 2] = ch2_u8\n",
    "    pilimage = Image.fromarray(rgb_input_img)\n",
    "    return rgb_input_img"
   ]
  },
  {
   "cell_type": "code",
   "execution_count": null,
   "id": "18a1d6eb-e168-4621-9a46-3bc2c1ae457b",
   "metadata": {},
   "outputs": [],
   "source": [
    "from skimage.io import imread\n",
    "from skimage import io\n",
    "from skimage.util import img_as_ubyte\n",
    "\n",
    "image_folder = origFolder + imageName[0] + '/ImageSplit/'\n",
    "images = [img for img in os.listdir(image_folder) if img.endswith(\".tif\")]\n",
    "frame = io.imread(os.path.join(image_folder, images[0]))\n",
    "# frame = rgbImge(frame)\n",
    "# width,height,layers = frame.shape\n",
    "# video = cv2.VideoWriter(os.path.join(outFolder,'output_video3.avi'), cv2.VideoWriter_fourcc(*'MJPG'),10.0,(width,height),  isColor = True)\n",
    "# for image in images:\n",
    "#     frame = io.imread(os.path.join(image_folder, image))\n",
    "#     frame = rgbImge(frame)\n",
    "#     #frame = ((frame - frame.min()) / (frame.ptp()) * 255).astype(np.uint8)\n",
    "#     video.write(frame)\n",
    "# video.release()"
   ]
  },
  {
   "cell_type": "code",
   "execution_count": null,
   "id": "43342fa7-1a75-432e-9fee-e8b748416921",
   "metadata": {},
   "outputs": [],
   "source": [
    "len(images)"
   ]
  },
  {
   "cell_type": "code",
   "execution_count": null,
   "id": "b8a5de5e-8750-49f4-a9ce-9a1cebdfd7e8",
   "metadata": {},
   "outputs": [],
   "source": [
    "plt.imshow(frame*10)"
   ]
  },
  {
   "cell_type": "code",
   "execution_count": null,
   "id": "38a13c86-7a5a-4bf8-958e-23b22df51eb2",
   "metadata": {},
   "outputs": [],
   "source": [
    "from IPython.display import HTML\n",
    "from base64 import b64encode\n",
    "\n",
    "# Load video\n",
    "video_path = os.path.join(outFolder,'output_video3.avi')\n",
    "video_file = open(video_path, \"rb\").read() \n",
    "\n",
    "# Convert video to base64\n",
    "video_encoded = b64encode(video_file).decode('ascii')\n",
    "\n",
    "# Create HTML string and display video\n",
    "HTML(data=f'''\n",
    "<video alt=\"test\" controls>\n",
    "<source src=\"data:video/avi;base64,{video_encoded}\" type=\"video/avi\">\n",
    "</video>''')"
   ]
  },
  {
   "cell_type": "code",
   "execution_count": null,
   "id": "e02cd838-e120-4f1e-8380-e15ab42af772",
   "metadata": {},
   "outputs": [],
   "source": [
    "images = [img for img in os.listdir(image_folder) if img.endswith(\".tif\")]\n",
    "frames = []\n",
    "for image in images:\n",
    "    frame_temp = io.imread(os.path.join(image_folder, image))\n",
    "    frame_temp = rgbImge(frame_temp)\n",
    "    frames.append(frame_temp)"
   ]
  },
  {
   "cell_type": "code",
   "execution_count": null,
   "id": "583f5d7e-82af-4aa1-a143-257126650460",
   "metadata": {},
   "outputs": [],
   "source": [
    "from io import BytesIO\n",
    "byteframes = []\n",
    "for img in frames:\n",
    "    byte = BytesIO()\n",
    "    byteframes.append(byte)\n",
    "    img.save(byte, format=\"GIF\")\n",
    "gifs = [Image.open(byteframe) for byteframe in byteframes]\n",
    "gifs[0].save(\"good.gif\", append_images=gifs[1:])"
   ]
  },
  {
   "cell_type": "code",
   "execution_count": null,
   "id": "5259ad71-744d-40d3-ade7-1d6947c716d7",
   "metadata": {},
   "outputs": [],
   "source": [
    "frame = imread(os.path.join(image_folder, images[0]))\n",
    "frame = img_as_ubyte(frame)"
   ]
  },
  {
   "cell_type": "code",
   "execution_count": null,
   "id": "9ac5565c-a9ab-44ce-9466-7504ac3f54f3",
   "metadata": {},
   "outputs": [],
   "source": [
    "origFolder + imageName[0] + '/ImageSplit/'"
   ]
  },
  {
   "cell_type": "code",
   "execution_count": null,
   "id": "fdf123cd-513d-4c93-a4cc-e7663e278b7b",
   "metadata": {},
   "outputs": [],
   "source": [
    "images_to_video(origFolder + imageName[0] + '/ImageSplit/',outFolder, 'output_video.avi', 30)"
   ]
  },
  {
   "cell_type": "code",
   "execution_count": null,
   "id": "30817af1-dc29-4305-9b29-42d90c5a7398",
   "metadata": {},
   "outputs": [],
   "source": [
    "!pwd"
   ]
  },
  {
   "cell_type": "code",
   "execution_count": null,
   "id": "f0fec3f5-479a-4142-a9d8-3069c98dc1fb",
   "metadata": {},
   "outputs": [],
   "source": []
  },
  {
   "cell_type": "code",
   "execution_count": null,
   "id": "ff78716f-6953-4caa-aeae-234068dca9de",
   "metadata": {},
   "outputs": [],
   "source": [
    "from IPython.display import HTML\n",
    "from base64 import b64encode\n",
    "mp4_file = '/data/kanferg/Images/Pex_project/Subrah_2024/022419_catGFP/videos/UHqjfLR.mp4'\n",
    "\n",
    "# load video\n",
    "video = open(mp4_file, \"rb\").read()\n",
    "\n",
    "# encode to base64\n",
    "video_encoded = b64encode(video).decode(\"ascii\")\n",
    "\n",
    "# create HTML string\n",
    "video_tag = '<video controls alt=\"test\" src=\"data:video/mp4;base64,{0}\">'.format(video_encoded)\n",
    "\n",
    "# display video\n",
    "HTML(data=video_tag)"
   ]
  },
  {
   "cell_type": "code",
   "execution_count": null,
   "id": "9c5f3a93-01d4-43da-8d2b-cdf22744a314",
   "metadata": {},
   "outputs": [],
   "source": []
  },
  {
   "cell_type": "code",
   "execution_count": null,
   "id": "f20344bf-24dc-4f59-ba43-c799865f83dd",
   "metadata": {},
   "outputs": [],
   "source": [
    "import os"
   ]
  },
  {
   "cell_type": "code",
   "execution_count": null,
   "id": "29572fd3-507a-4c6b-a8fd-e70e76cc084b",
   "metadata": {},
   "outputs": [],
   "source": [
    "os.path.join"
   ]
  },
  {
   "cell_type": "code",
   "execution_count": null,
   "id": "bbf462d6-82a4-4a8d-a6a2-13d8640f30d8",
   "metadata": {},
   "outputs": [],
   "source": [
    "image = skimage.io.imread(os.path.join(data_dir,files[2]))\n",
    "image.shape"
   ]
  },
  {
   "cell_type": "code",
   "execution_count": null,
   "id": "b0436f5b-df28-477c-920a-83cb7a726541",
   "metadata": {},
   "outputs": [],
   "source": [
    "minAxsis = min(image.shape[0],image.shape[1])\n",
    "winSize = 6\n",
    "while minAxsis % winSize != 0:\n",
    "    minAxsis -= 1\n",
    "stepSize =  int(minAxsis/winSize)\n",
    "print(f'max image size: {minAxsis}, step size: {stepSize}')"
   ]
  },
  {
   "cell_type": "code",
   "execution_count": null,
   "id": "e7036374-1be3-4161-8e5f-cc27785c3261",
   "metadata": {},
   "outputs": [],
   "source": [
    "for i in range(0,minAxsis,stepSize):\n",
    "    print(f'{i}')"
   ]
  },
  {
   "cell_type": "code",
   "execution_count": null,
   "id": "391c4960-5a5d-4c1f-8f59-d5b84c745b13",
   "metadata": {},
   "outputs": [],
   "source": [
    "imageSlice = []\n",
    "for i in range(0,minAxsis,stepSize):\n",
    "    for j in range(0,minAxsis,stepSize):\n",
    "        imageSlice.append(image[i:i+stepSize,j:j+stepSize])\n",
    "        "
   ]
  },
  {
   "cell_type": "code",
   "execution_count": null,
   "id": "6a250a6a-19b3-4931-a4a9-debee5161f13",
   "metadata": {},
   "outputs": [],
   "source": [
    "range_xy = 0+stepSize,minAxsis-250\n",
    "np.random.randint(low = range_xy[0],high = range_xy[1],size =1).tolist()[0]"
   ]
  },
  {
   "cell_type": "code",
   "execution_count": null,
   "id": "318db61a-9683-4c86-bc7b-46a0d89f4b23",
   "metadata": {},
   "outputs": [],
   "source": [
    "rnadomWindows = [1]*3\n",
    "rnadomWindows.pop()"
   ]
  },
  {
   "cell_type": "code",
   "execution_count": null,
   "id": "2fbd4bb8-87d2-4042-8088-fa5e870ba4c5",
   "metadata": {},
   "outputs": [],
   "source": [
    "rnadomWindows"
   ]
  },
  {
   "cell_type": "code",
   "execution_count": null,
   "id": "d256f932-a7f9-49ad-b178-680e0c4e0db4",
   "metadata": {},
   "outputs": [],
   "source": [
    "y = minAxsis\n",
    "x = 0\n",
    "imageSlice = []\n",
    "for i in range(0,minAxsis,stepSize):\n",
    "    for j in range(stepSize):\n",
    "        imageSlice = image[x[i]"
   ]
  },
  {
   "cell_type": "code",
   "execution_count": null,
   "id": "c6b5497e-4593-448e-accf-6ebf9a1b2ca9",
   "metadata": {},
   "outputs": [],
   "source": [
    "for i in range(0,minAxsis,stepSize):\n",
    "    print(f'{i}')"
   ]
  },
  {
   "cell_type": "code",
   "execution_count": null,
   "id": "7434eb21-5101-4890-9573-533016a64592",
   "metadata": {},
   "outputs": [],
   "source": [
    "np.std(image)"
   ]
  },
  {
   "cell_type": "code",
   "execution_count": null,
   "id": "901fdd84-4bc8-4744-aa49-2390a1fd7308",
   "metadata": {},
   "outputs": [],
   "source": [
    "for i,im in enumerate(imageSlice):\n",
    "    i"
   ]
  },
  {
   "cell_type": "code",
   "execution_count": null,
   "id": "e76a3120-16a2-44ef-9f40-2d036ed3aed2",
   "metadata": {},
   "outputs": [],
   "source": [
    "import cv2\n",
    "import glob\n",
    "import numpy as np\n",
    "fourcc = cv2.VideoWriter_fourcc(*'mp4v')  "
   ]
  },
  {
   "cell_type": "code",
   "execution_count": null,
   "id": "607ab39f-38b0-42bd-9c00-b92648483ffc",
   "metadata": {},
   "outputs": [],
   "source": [
    "data_dir = '/data/kanferg/Images/022419_catGFP'\n",
    "files = glob.glob(\"/data/kanferg/Images/022419_catGFP/\" + \"*tif\")\n",
    "image = skimage.io.imread(os.path.join(data_dir,files[2]))\n",
    "channel_1 = image[0,:,:]"
   ]
  },
  {
   "cell_type": "code",
   "execution_count": null,
   "id": "5084ad4d-4f53-46f7-82b0-1ef7196a10e4",
   "metadata": {},
   "outputs": [],
   "source": [
    "from skimage import exposure\n",
    "\n",
    "p2, p98 = np.percentile(channel_1, (40, 98))\n",
    "channel_1_rescaled = exposure.rescale_intensity(channel_1, in_range=(p2, p98))\n",
    "\n",
    "plt.imshow(channel_1_rescaled, cmap='gray')\n",
    "plt.axis('off')\n",
    "plt.show()"
   ]
  },
  {
   "cell_type": "code",
   "execution_count": null,
   "id": "f2516b3c-4e0f-42be-bbdf-55d9753576a7",
   "metadata": {},
   "outputs": [],
   "source": []
  },
  {
   "cell_type": "code",
   "execution_count": null,
   "id": "a83a1494-b541-4037-b47d-cdb3a9d4c199",
   "metadata": {},
   "outputs": [],
   "source": [
    "open_vec = np.linspace(2, 20, 10, endpoint=True, dtype=int)\n",
    "open_vec"
   ]
  },
  {
   "cell_type": "code",
   "execution_count": null,
   "id": "001ff21a-b9e1-4ca5-ba65-cdb08d2d6711",
   "metadata": {},
   "outputs": [],
   "source": [
    "for opning in open_vec:\n",
    "    openImage = self.openingOperation(kernel = opning)\n",
    "    tableGran_temp = self.measure_properties(input_image =openImage,input_mask = self.mask ,prop_names = fetureLabel)\n",
    "    tableColumn[opning] = tableGran_temp['mean_int'].tolist()"
   ]
  },
  {
   "cell_type": "code",
   "execution_count": null,
   "id": "bf5b6135-9712-4476-a2b8-fa6370a85eef",
   "metadata": {},
   "outputs": [],
   "source": [
    "from skimage import measure, morphology\n",
    "# openingOperation:\n",
    "selem = morphology.disk(kernel, dtype=bool)\n",
    "eros_pix = morphology.erosion(image, footprint=selem)\n",
    "imageOpen = morphology.dilation(eros_pix, footprint=selem)"
   ]
  },
  {
   "cell_type": "code",
   "execution_count": null,
   "id": "6253f429-55dd-411a-a36b-1a314c301705",
   "metadata": {},
   "outputs": [],
   "source": [
    "from IPython.display import HTML\n",
    "from matplotlib.animation import FuncAnimation\n",
    "import matplotlib.pyplot as plt\n",
    "import numpy as np\n",
    "from skimage import measure, morphology"
   ]
  },
  {
   "cell_type": "code",
   "execution_count": null,
   "id": "f5dec620-eb52-42e8-a64b-483a7dd45af2",
   "metadata": {},
   "outputs": [],
   "source": [
    "def openingOperation(image, kernel):\n",
    "    selem = morphology.disk(kernel, dtype=bool)\n",
    "    eros_pix = morphology.erosion(image, footprint=selem)\n",
    "    imageOpen = morphology.dilation(eros_pix, footprint=selem)\n",
    "    return imageOpen\n",
    "kernels = np.linspace(2, 20, 10, endpoint=True, dtype=int)\n",
    "images = [openingOperation(image[0,:,:], kernel) for kernel in kernels]"
   ]
  },
  {
   "cell_type": "code",
   "execution_count": null,
   "id": "e543dc92-77e9-44b6-9794-2daaf2dcd0be",
   "metadata": {},
   "outputs": [],
   "source": [
    "# from skimage import exposure\n",
    "# def normalize_and_enhance(image):\n",
    "#     image = (image - np.min(image)) / (np.max(image) - np.min(image))\n",
    "#     image = exposure.equalize_adapthist(image, clip_limit=0.3)\n",
    "#     return image\n",
    "# enhanced_images = [normalize_and_enhance(image) for image in images]"
   ]
  },
  {
   "cell_type": "code",
   "execution_count": null,
   "id": "ebae3185-245f-4068-8a9b-ef87f596bf0a",
   "metadata": {},
   "outputs": [],
   "source": [
    "# def normalize_16bit(image):\n",
    "#     return (image - np.min(image)) / (np.max(image) - np.min(image))\n",
    "# normalized_images = [normalize_16bit(image) for image in images]"
   ]
  },
  {
   "cell_type": "code",
   "execution_count": null,
   "id": "ab76fab3-8b7a-4485-9888-c96f7571a8d2",
   "metadata": {},
   "outputs": [],
   "source": [
    "# Remove axes for clarity\n",
    "fig, ax = plt.subplots()\n",
    "\n",
    "ax.axis('off')\n",
    "\n",
    "# Display the first frame\n",
    "im = ax.imshow(images[0]*10, cmap='gray')\n",
    "\n",
    "# Function to update figure\n",
    "def update(i):\n",
    "    # Update the image data\n",
    "    im.set_array(images[i]*10)\n",
    "\n",
    "# Create animation\n",
    "ani = FuncAnimation(fig, update, frames=len(images), interval=500) # 500ms between frames\n",
    "HTML(ani.to_jshtml())"
   ]
  },
  {
   "cell_type": "code",
   "execution_count": null,
   "id": "f7d6bdfa-84fd-4d96-8fd6-7025d91e303e",
   "metadata": {},
   "outputs": [],
   "source": [
    "# save images of Cat-GFP has single"
   ]
  },
  {
   "cell_type": "code",
   "execution_count": null,
   "id": "4ce3a1c0-09a7-449b-9e0d-650329232628",
   "metadata": {
    "scrolled": true
   },
   "outputs": [],
   "source": [
    "# from IPython.display import clear_output\n",
    "\n",
    "# clear_output(wait=True) # remove all display \n",
    "# data_dir = '/data/kanferg/Images/022419_catGFP'\n",
    "# #files = glob.glob(\"/data/kanferg/Images/022419_catGFP/\" + \"*tif\")\n",
    "# files = os.listdir(data_dir)\n",
    "# files = [f for f in files if f.endswith('.tif')]\n",
    "# target_dir = \"022419_catGFP\"\n",
    "# for i in range(len(files)):\n",
    "#     image = skimage.io.imread(os.path.join(data_dir,files[i]))\n",
    "#     channel_1 = image[0,:,:]\n",
    "#     try:\n",
    "#         skimage.io.imsave(os.path.join(target_dir,str(i)+'.tif'), channel_1)\n",
    "#     except:\n",
    "#         continue\n",
    "#     print('-' * i, end = '\\r')    "
   ]
  },
  {
   "cell_type": "code",
   "execution_count": null,
   "id": "98c639ae-2113-4577-86d6-c81eaed40465",
   "metadata": {},
   "outputs": [],
   "source": [
    "data_dir = \"022419_catGFP/class1\""
   ]
  },
  {
   "cell_type": "code",
   "execution_count": null,
   "id": "c769974c-bd16-46ac-bfad-32ced6b604c7",
   "metadata": {},
   "outputs": [],
   "source": [
    "# dataset = ImageFolder(target_dir,transform = transforms.Compose([\n",
    "#     transforms.ToTensor()\n",
    "# ]))\n",
    "# img, label = dataset[0]\n",
    "\n",
    "# print(img.shape,label) \n",
    "# print(\"Follwing classes are there : \\n\",dataset.classes)"
   ]
  },
  {
   "cell_type": "code",
   "execution_count": null,
   "id": "979119ec-4f36-4414-ade4-ce18a5ae0587",
   "metadata": {
    "scrolled": true
   },
   "outputs": [],
   "source": [
    "# def display_img(img,label):\n",
    "#     print(f\"Label : {dataset.classes[label]}\")\n",
    "#     plt.imshow(img)\n",
    "# '''\n",
    "# In the function `img.permute(1,2,0)`, `permute(1,2,0)` is used to change the dimensions of the `img` object.\n",
    "\n",
    "# The `img` object has dimensions `torch.Size([3, 150, 150])`, which means it has 3 channels (RGB) and an image size of 150x150 pixels.\n",
    "# '''\n",
    "# #display the first image in the dataset\n",
    "# display_img(*dataset[1])"
   ]
  },
  {
   "cell_type": "code",
   "execution_count": null,
   "id": "77ee0072-c517-46f3-ac2f-06d47a9f8db1",
   "metadata": {},
   "outputs": [],
   "source": [
    " # remove all display \n",
    "data_dir = '/data/kanferg/Images/022419_catGFP/class1'\n",
    "files = os.listdir(data_dir)\n",
    "files = [f for f in files if f.endswith('.tif')]\n",
    "target_dir = \"022419_catGFP\"\n",
    "for i in range(len(files)):\n",
    "    image = skimage.io.imread(os.path.join(data_dir,files[i]))\n",
    "    channel_1 = image[0,:,:]\n",
    "    try:\n",
    "        skimage.io.imsave(os.path.join(target_dir,str(i)+'.tif'), channel_1)\n",
    "    except:\n",
    "        continue\n",
    "    print('-' * i, end = '\\r')    "
   ]
  },
  {
   "cell_type": "code",
   "execution_count": null,
   "id": "c137d7d2-45be-4020-a170-bf602a151cbf",
   "metadata": {},
   "outputs": [],
   "source": [
    "data_dir = '/data/kanferg/Images/Pex_project/Subrah_2024/022419_catGFP/class1/'\n",
    "files = glob.glob(data_dir + '*tif')\n",
    "image = skimage.io.imread(os.path.join(data_dir,files[2]))\n",
    "image.shape, image.dtype"
   ]
  },
  {
   "cell_type": "code",
   "execution_count": null,
   "id": "6de52c59-a7d4-476e-bd16-edb782353c75",
   "metadata": {},
   "outputs": [],
   "source": [
    "import random\n"
   ]
  },
  {
   "cell_type": "code",
   "execution_count": null,
   "id": "5059a39a-86d0-4374-927a-dc126c330533",
   "metadata": {},
   "outputs": [],
   "source": [
    "data_dir = '/data/kanferg/Images/Pex_project/Subrah_2024/022419_catGFP/class1/'\n",
    "files = glob.glob(data_dir + '*tif')\n",
    "files[:10]"
   ]
  },
  {
   "cell_type": "code",
   "execution_count": null,
   "id": "853490db-11ee-412c-8466-9b20bdfd8061",
   "metadata": {},
   "outputs": [],
   "source": [
    "x = [skimage.io.imread(image) for image in files[:10]]\n",
    "len(x)\n",
    "np.choose(5,np.arange(len(x)))"
   ]
  },
  {
   "cell_type": "code",
   "execution_count": null,
   "id": "be763707-3413-41a3-9b3b-2ae59ad004fe",
   "metadata": {},
   "outputs": [],
   "source": [
    "from cellpose import models, core\n",
    "from AIPyS import AIPS_file_display as afd"
   ]
  },
  {
   "cell_type": "code",
   "execution_count": null,
   "id": "4f623cec-78c9-4268-9262-8c5d3e5a6d14",
   "metadata": {},
   "outputs": [],
   "source": [
    "use_GPU = core.use_gpu()\n",
    "model = models.Cellpose(gpu=use_GPU, model_type=\"cyto\")"
   ]
  },
  {
   "cell_type": "code",
   "execution_count": null,
   "id": "74c01b5e-f132-41ba-8d5f-f1ce69cc9c5f",
   "metadata": {},
   "outputs": [],
   "source": [
    "30/110"
   ]
  },
  {
   "cell_type": "code",
   "execution_count": null,
   "id": "d7c5a2b8-39fb-49b5-9777-7f91d15577c9",
   "metadata": {},
   "outputs": [],
   "source": [
    "mask, flows, styles, diams = model.eval(x[0]*50, diameter=100, flow_threshold=None, channels=[0,0])"
   ]
  },
  {
   "cell_type": "code",
   "execution_count": null,
   "id": "3dc56e75-899f-48cc-bc76-d125079b0d90",
   "metadata": {},
   "outputs": [],
   "source": [
    "plt.imshow( mask, cmap=plt.cm.gray) "
   ]
  },
  {
   "cell_type": "code",
   "execution_count": null,
   "id": "9efffe89-b57f-44c8-8afd-187ff6398e05",
   "metadata": {},
   "outputs": [],
   "source": [
    "zz = [1,32,45]\n",
    "np.mean(zz)"
   ]
  },
  {
   "cell_type": "code",
   "execution_count": null,
   "id": "84529656-6517-474e-b547-ce4f62bf74ec",
   "metadata": {},
   "outputs": [],
   "source": [
    "maskContour = afd.Compsite_display(input_image = x[0], mask_roi = mask, channel= 0).draw_ROI_contour()"
   ]
  },
  {
   "cell_type": "code",
   "execution_count": null,
   "id": "7657f154-3fda-48d2-8fe4-e6141c7cfbc8",
   "metadata": {},
   "outputs": [],
   "source": [
    "fig, ax = plt.subplots(1, 2, figsize=(8, 8)) \n",
    "ax[0].imshow( x[0], cmap=plt.cm.gray) \n",
    "ax[0].title.set_text('GFP Catalase') \n",
    "ax[1].imshow(maskContour, cmap=plt.cm.rainbow) \n",
    "ax[1].title.set_text('Mask - Target') "
   ]
  },
  {
   "cell_type": "code",
   "execution_count": null,
   "id": "6b11f10c-39a1-4c9a-b731-52b2792e4d03",
   "metadata": {},
   "outputs": [],
   "source": [
    "plt.imshow(x[0][600:1200,350:850]*5, cmap=plt.cm.gray) "
   ]
  },
  {
   "cell_type": "code",
   "execution_count": null,
   "id": "31fb9b5f-eb21-43b0-914b-8d44d81b02ea",
   "metadata": {},
   "outputs": [],
   "source": [
    "styles"
   ]
  },
  {
   "cell_type": "code",
   "execution_count": null,
   "id": "4ecb6a40-42d3-4062-91d8-800c08aece9b",
   "metadata": {},
   "outputs": [],
   "source": []
  },
  {
   "cell_type": "code",
   "execution_count": null,
   "id": "6f54adc9-cd6e-4332-999c-57d15ed47a08",
   "metadata": {},
   "outputs": [],
   "source": []
  },
  {
   "cell_type": "code",
   "execution_count": null,
   "id": "ecab674f-428f-413c-a65c-2f450b4784c6",
   "metadata": {},
   "outputs": [],
   "source": []
  },
  {
   "cell_type": "code",
   "execution_count": null,
   "id": "0012e357-eaf7-41c0-9cc7-d44d564e797d",
   "metadata": {},
   "outputs": [],
   "source": [
    "data_dir = '/data/kanferg/Images/96_well_40xW_BAf_CQ_VPS34i_073021/20210730_113819_117'\n",
    "files = glob.glob(\"/data/kanferg/Images/96_well_40xW_BAf_CQ_VPS34i_073021/20210730_113819_117/\" + \"*tiff\")\n",
    "image = skimage.io.imread(os.path.join(data_dir,files[0]))\n",
    "image.shape"
   ]
  },
  {
   "cell_type": "code",
   "execution_count": null,
   "id": "eea4d12f-da45-4bb8-a66d-20ae13531dc5",
   "metadata": {},
   "outputs": [],
   "source": [
    "def draw_ROI_contour(input_image):\n",
    "    input_gs_image = input_image\n",
    "    input_gs_image = (input_gs_image / input_gs_image.max()) * 255\n",
    "    ch2_u8 = np.uint8(input_gs_image)\n",
    "    rgb_input_img = np.zeros((np.shape(ch2_u8)[0], np.shape(ch2_u8)[1], 3), dtype=np.uint8)\n",
    "    rgb_input_img[:, :, 0] = ch2_u8\n",
    "    rgb_input_img[:, :, 1] = ch2_u8\n",
    "    rgb_input_img[:, :, 2] = ch2_u8\n",
    "    return rgb_input_img"
   ]
  },
  {
   "cell_type": "code",
   "execution_count": null,
   "id": "d366554a-f08c-4289-8399-2966ee1fbf7a",
   "metadata": {},
   "outputs": [],
   "source": [
    "draw_ROI_contour(image[:,:,0)"
   ]
  },
  {
   "cell_type": "code",
   "execution_count": null,
   "id": "e4aeda6c-4bb2-46d3-8bab-244606f91e34",
   "metadata": {},
   "outputs": [],
   "source": [
    "image = np.transpose(image, (2, 0, 1))\n",
    "image.dtype"
   ]
  },
  {
   "cell_type": "code",
   "execution_count": null,
   "id": "8b83c38b-6e2f-48a7-b4fb-a17fd6fbae65",
   "metadata": {},
   "outputs": [],
   "source": [
    "PIL_image = Image.fromarray(np.uint8(image[:,:,1))\n",
    "plt.imshow(PIL_image,cmap='binary')"
   ]
  },
  {
   "cell_type": "code",
   "execution_count": null,
   "id": "8f7ffc23-c0cf-42f5-ac8a-149d33791bcd",
   "metadata": {
    "scrolled": true
   },
   "outputs": [],
   "source": [
    "data_dir = '/data/kanferg/Images/96_well_40xW_BAf_CQ_VPS34i_073021/20210730_113819_117'\n",
    "dataset = ImageFolder(data_dir,transform = transforms.Compose([transforms.ToTensor()]))\n",
    "def display_img(img,label):\n",
    "    print(f\"Label : {dataset.classes[label]}\")\n",
    "    plt.imshow(img.permute(1,2,0))\n",
    "'''\n",
    "In the function `img.permute(1,2,0)`, `permute(1,2,0)` is used to change the dimensions of the `img` object.\n",
    "\n",
    "The `img` object has dimensions `torch.Size([3, 150, 150])`, which means it has 3 channels (RGB) and an image size of 150x150 pixels.\n",
    "'''\n",
    "#display the first image in the dataset\n",
    "display_img(*dataset[1])"
   ]
  },
  {
   "cell_type": "code",
   "execution_count": null,
   "id": "64b7549a-9e87-4fb6-82ee-a9b3d1d1d4c5",
   "metadata": {},
   "outputs": [],
   "source": []
  },
  {
   "cell_type": "code",
   "execution_count": null,
   "id": "b9747cb2-827e-418d-8a5d-d4b7de2c6f14",
   "metadata": {},
   "outputs": [],
   "source": [
    "os.getcwd()"
   ]
  },
  {
   "cell_type": "code",
   "execution_count": null,
   "id": "100ca0fa-249f-4932-a240-23da340e367d",
   "metadata": {},
   "outputs": [],
   "source": [
    "os.chdir(\"/data/kanferg/Images/96_well_40xW_BAf_CQ_VPS34i_073021/20210730_113819_117\")"
   ]
  },
  {
   "cell_type": "code",
   "execution_count": null,
   "id": "6bb046be-22b4-4fdc-a414-4df4c20175fb",
   "metadata": {},
   "outputs": [],
   "source": [
    "os.chdir(\"/data/kanferg/Images/96_well_40xW_BAf_CQ_VPS34i_073021/20210730_113819_117\")\n"
   ]
  },
  {
   "cell_type": "code",
   "execution_count": null,
   "id": "e2c01a67-1d6d-4ef5-a923-1cb35918b31b",
   "metadata": {},
   "outputs": [],
   "source": [
    "os.mkdir(\"class_fake_val\")"
   ]
  },
  {
   "cell_type": "code",
   "execution_count": null,
   "id": "df8a2714-b7e2-4db9-93ee-959925e04431",
   "metadata": {},
   "outputs": [],
   "source": [
    "files = glob.glob(\"/data/kanferg/Images/96_well_40xW_BAf_CQ_VPS34i_073021/20210730_113819_117/\" + \"*tiff\")"
   ]
  },
  {
   "cell_type": "code",
   "execution_count": null,
   "id": "1c71dca5-61e5-499c-9b32-db81ebd78628",
   "metadata": {},
   "outputs": [],
   "source": [
    "target_dir = \"/data/kanferg/Images/96_well_40xW_BAf_CQ_VPS34i_073021/20210730_113819_117/\" + \"seg_train/PEX\"\n",
    "for i in range(0,100):\n",
    "    shutil.copy(files[i], target_dir)"
   ]
  },
  {
   "cell_type": "code",
   "execution_count": null,
   "id": "8c2ac967-5842-49fb-b830-9db9e1ee9536",
   "metadata": {},
   "outputs": [],
   "source": [
    "target_dir"
   ]
  },
  {
   "cell_type": "code",
   "execution_count": null,
   "id": "a3585f1f-1362-47bc-b97b-a005062add23",
   "metadata": {},
   "outputs": [],
   "source": []
  }
 ],
 "metadata": {
  "kernelspec": {
   "display_name": "Python 3 (ipykernel)",
   "language": "python",
   "name": "python3"
  },
  "language_info": {
   "codemirror_mode": {
    "name": "ipython",
    "version": 3
   },
   "file_extension": ".py",
   "mimetype": "text/x-python",
   "name": "python",
   "nbconvert_exporter": "python",
   "pygments_lexer": "ipython3",
   "version": "3.11.7"
  }
 },
 "nbformat": 4,
 "nbformat_minor": 5
}
