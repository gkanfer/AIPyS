{
 "cells": [
  {
   "cell_type": "code",
   "execution_count": null,
   "metadata": {
    "id": "Jvghs_rIGeBU"
   },
   "outputs": [],
   "source": [
    "!pip install --upgrade plotly\n",
    "!pip install jupyter-dash\n",
    "!pip install dash-bootstrap-components"
   ]
  },
  {
   "cell_type": "code",
   "execution_count": null,
   "metadata": {
    "id": "BtD9CNtAGgLS"
   },
   "outputs": [],
   "source": [
    "from jupyter_dash import JupyterDash\n",
    "import dash\n",
    "from dash import dcc\n",
    "from dash import html\n",
    "from dash import dash_table\n",
    "from dash.dependencies import Input, Output\n",
    "from dash import State\n",
    "from dash.exceptions import PreventUpdate\n",
    "import dash_bootstrap_components as dbc\n",
    "import pandas as pd\n",
    "import sys\n",
    "import numpy as np\n",
    "import matplotlib.pyplot as plt\n",
    "from PIL import Image\n",
    "import seaborn as sns\n",
    "import os\n",
    "import re\n",
    "import glob\n",
    "import random\n",
    "import plotnine\n",
    "from sklearn import preprocessing\n",
    "from tqdm import tqdm\n",
    "import plotly.express as px\n",
    "%config InlineBackend.figure_format = 'retina'\n",
    "import warnings\n",
    "warnings.filterwarnings('ignore')\n",
    "import pdb\n",
    "# mount data\n",
    "from google.colab import drive\n",
    "drive.mount('/content/drive', force_remount=True)\n",
    "dataPath = '/content/drive/MyDrive/Data/granularity/imageSequence/data'\n",
    "IMAGE_FOLDER = '/content/drive/MyDrive/Data/granularity/imageSequence/images'\n",
    "df = pd.read_csv(os.path.join(dataPath,'imageseq_data.csv'))\n",
    "float_cols = df.select_dtypes(include=['float']).columns\n",
    "df[float_cols] = df[float_cols].apply(lambda x: np.round(x, 3))\n",
    "df = df.sample(frac=1).reset_index(drop=True)\n",
    "#df['name'] = df['name'].apply(lambda x: f\"{x}.png\")\n",
    "first_image_name = df.iloc[0]['name']\n",
    "first_image_path = f\"{IMAGE_FOLDER}/{first_image_name}\"\n",
    "savedContainer = {'name':[], 'ratio':[], 'intensity':[], 'sd':[], 'maskArea':[], 'label':[]}\n",
    "image_names = [re.sub(\"_.*\",\"\",name) for name in set(df.name.tolist())]\n",
    "#df.loc[df.name.str.contains(image_names[0]),:]"
   ]
  },
  {
   "cell_type": "code",
   "execution_count": null,
   "metadata": {
    "id": "p2WXvnu0vSgV"
   },
   "outputs": [],
   "source": [
    "def split_df(df,chunk_size=10):\n",
    "  # creats a list of data frame\n",
    "  chunks = {}\n",
    "  num_chunks = len(df) // chunk_size + bool(len(df) % chunk_size)\n",
    "  for i in range(num_chunks):\n",
    "      start_index = i * chunk_size\n",
    "      end_index = start_index + chunk_size\n",
    "      chunks[i].append(df.iloc[start_index:end_index].to_dict(\"records\"))\n",
    "  return chunks"
   ]
  },
  {
   "cell_type": "code",
   "execution_count": null,
   "metadata": {
    "id": "GyVeyvip6HUI"
   },
   "outputs": [],
   "source": [
    "# Initialize the Jupyter Dash app\n",
    "app = JupyterDash(__name__, suppress_callback_exceptions=True)\n",
    "\n",
    "# Define the layout of the app\n",
    "app.layout = html.Div([\n",
    "       html.Div([\n",
    "        dash_table.DataTable(id='table',\n",
    "        columns=[{\"name\": i, \"id\": i,}\n",
    "                for i in df.columns if i in ['name', 'ratio', 'label']],\n",
    "        data=df.to_dict('records'),\n",
    "        row_selectable=\"single\",\n",
    "        editable = True,\n",
    "        page_size=10,\n",
    "        page_action='native',\n",
    "        row_deletable=True,\n",
    "        cell_selectable=True)],style={'width': '49%', 'display': 'inline-block'}),\n",
    "        html.Div([\n",
    "          html.Div(id='img-container')\n",
    "        ], style={'width': '49%', 'display': 'inline-block'}),\n",
    "])\n",
    "\n",
    "@app.callback(\n",
    "  Output('img-container', 'children'),\n",
    "  [Input('table', 'active_cell'),\n",
    "  Input('table', 'data'),\n",
    "  State('table', 'page_current'),\n",
    "  State('table', 'page_size')],\n",
    "  prevent_initial_call=True,)\n",
    "def display_image(active_cell,rows,page_current,page_size):\n",
    "  if active_cell['column_id'] == 'name' and page_current:\n",
    "    df_new = df.iloc[page_current*page_size:(page_current+1)*page_size]\n",
    "    img_name = df_new[active_cell['row']]['name']  # No need to append \".png\"\n",
    "    return [f'{img_name}']\n",
    "  elif active_cell['column_id'] == 'name':\n",
    "    df_new = df.iloc[0:page_size-1]\n",
    "    img_name = df_new[active_cell['row']]['name']\n",
    "  else:\n",
    "    raise PreventUpdate\n",
    "app.run_server()"
   ]
  }
 ],
 "metadata": {
  "colab": {
   "authorship_tag": "ABX9TyMlWK4YiJybqwQ6pBBHFRox",
   "private_outputs": true,
   "provenance": []
  },
  "kernelspec": {
   "display_name": "Python 3 (ipykernel)",
   "language": "python",
   "name": "python3"
  },
  "language_info": {
   "codemirror_mode": {
    "name": "ipython",
    "version": 3
   },
   "file_extension": ".py",
   "mimetype": "text/x-python",
   "name": "python",
   "nbconvert_exporter": "python",
   "pygments_lexer": "ipython3",
   "version": "3.8.18"
  }
 },
 "nbformat": 4,
 "nbformat_minor": 1
}
