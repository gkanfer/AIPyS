{
 "cells": [
  {
   "cell_type": "code",
   "execution_count": 8,
   "metadata": {},
   "outputs": [],
   "source": [
    "import pandas as pd\n",
    "import os"
   ]
  },
  {
   "cell_type": "markdown",
   "metadata": {},
   "source": [
    "After running bat file:\n",
    "``` \n",
    "@echo off\n",
    "set /p InputDirectory=\"Enter the directory path to scan: \"\n",
    "set /p OutputFilePath=\"Enter the full output file path (including file name): \"\n",
    "PowerShell -NoProfile -ExecutionPolicy Bypass -Command \"& {cd '%InputDirectory%'; Get-ChildItem | ForEach-Object { $_ | Add-Member NoteProperty CreationTimeWithSeconds ($_.CreationTime.ToString('yyyy-MM-dd HH:mm:ss')) -PassThru } | Select-Object Name, CreationTimeWithSeconds | Export-Csv -Path '%OutputFilePath%' -NoTypeInformation}\"\n",
    "```\n",
    "It creates a csv collecting file name and data of creation  "
   ]
  },
  {
   "cell_type": "code",
   "execution_count": 9,
   "metadata": {},
   "outputs": [
    {
     "data": {
      "text/html": [
       "<div>\n",
       "<style scoped>\n",
       "    .dataframe tbody tr th:only-of-type {\n",
       "        vertical-align: middle;\n",
       "    }\n",
       "\n",
       "    .dataframe tbody tr th {\n",
       "        vertical-align: top;\n",
       "    }\n",
       "\n",
       "    .dataframe thead th {\n",
       "        text-align: right;\n",
       "    }\n",
       "</style>\n",
       "<table border=\"1\" class=\"dataframe\">\n",
       "  <thead>\n",
       "    <tr style=\"text-align: right;\">\n",
       "      <th></th>\n",
       "      <th>FileName</th>\n",
       "      <th>CreationTime</th>\n",
       "    </tr>\n",
       "  </thead>\n",
       "  <tbody>\n",
       "    <tr>\n",
       "      <th>0</th>\n",
       "      <td>Name</td>\n",
       "      <td>CreationTimeWithSeconds</td>\n",
       "    </tr>\n",
       "    <tr>\n",
       "      <th>1</th>\n",
       "      <td>old</td>\n",
       "      <td>2024-02-06 10:23:55</td>\n",
       "    </tr>\n",
       "    <tr>\n",
       "      <th>2</th>\n",
       "      <td>03LF4U.png</td>\n",
       "      <td>2024-02-22 14:05:26</td>\n",
       "    </tr>\n",
       "    <tr>\n",
       "      <th>3</th>\n",
       "      <td>04Y3K7.png</td>\n",
       "      <td>2024-02-22 13:37:48</td>\n",
       "    </tr>\n",
       "    <tr>\n",
       "      <th>4</th>\n",
       "      <td>0ARKS6.png</td>\n",
       "      <td>2024-02-22 15:40:01</td>\n",
       "    </tr>\n",
       "  </tbody>\n",
       "</table>\n",
       "</div>"
      ],
      "text/plain": [
       "     FileName             CreationTime\n",
       "0        Name  CreationTimeWithSeconds\n",
       "1         old      2024-02-06 10:23:55\n",
       "2  03LF4U.png      2024-02-22 14:05:26\n",
       "3  04Y3K7.png      2024-02-22 13:37:48\n",
       "4  0ARKS6.png      2024-02-22 15:40:01"
      ]
     },
     "execution_count": 9,
     "metadata": {},
     "output_type": "execute_result"
    }
   ],
   "source": [
    "path = r'D:\\Gil\\images\\pex_project\\outproc_output\\022224'\n",
    "c = pd.read_csv(os.path.join(path,\"filelist.csv\"), header=None, names=['FileName', 'CreationTime'])\n",
    "df.head()"
   ]
  },
  {
   "cell_type": "code",
   "execution_count": 12,
   "metadata": {},
   "outputs": [
    {
     "data": {
      "text/plain": [
       "414"
      ]
     },
     "execution_count": 12,
     "metadata": {},
     "output_type": "execute_result"
    }
   ],
   "source": [
    "len(df)"
   ]
  },
  {
   "cell_type": "code",
   "execution_count": 10,
   "metadata": {},
   "outputs": [
    {
     "name": "stdout",
     "output_type": "stream",
     "text": [
      "     CreationTimeMinute  FileCount\n",
      "0   2024-02-22 12:07:00          1\n",
      "1   2024-02-22 12:08:00          2\n",
      "2   2024-02-22 12:09:00          1\n",
      "3   2024-02-22 12:10:00          2\n",
      "4   2024-02-22 12:11:00          1\n",
      "..                  ...        ...\n",
      "274 2024-02-22 16:42:00          2\n",
      "275 2024-02-22 16:43:00          1\n",
      "276 2024-02-22 16:44:00          2\n",
      "277 2024-02-22 16:45:00          1\n",
      "278 2024-02-22 16:46:00          1\n",
      "\n",
      "[279 rows x 2 columns]\n"
     ]
    }
   ],
   "source": [
    "path = r'D:\\Gil\\images\\pex_project\\outproc_output\\022224'\n",
    "df = pd.read_csv(os.path.join(path,\"filelist.csv\"), header=None, names=['FileName', 'CreationTime'])\n",
    "# Filter to keep only rows where the file name ends with '.png'\n",
    "df = df[df['FileName'].str.endswith('.png')]\n",
    "# Convert CreationTime from string to datetime\n",
    "df['CreationTime'] = pd.to_datetime(df['CreationTime'])\n",
    "df['CreationTimeMinute'] = df['CreationTime'].dt.floor('T')\n",
    "\n",
    "# Group by the truncated CreationTime and count the occurrences\n",
    "files_per_minute = df.groupby('CreationTimeMinute').size()\n",
    "\n",
    "# If you need to reset the index to have CreationTimeMinute as a column\n",
    "files_per_minute = files_per_minute.reset_index(name='FileCount')\n",
    "print(files_per_minute)"
   ]
  },
  {
   "cell_type": "code",
   "execution_count": 11,
   "metadata": {},
   "outputs": [
    {
     "data": {
      "text/plain": [
       "1.4838709677419355"
      ]
     },
     "execution_count": 11,
     "metadata": {},
     "output_type": "execute_result"
    }
   ],
   "source": [
    "import numpy as np\n",
    "np.mean(files_per_minute.FileCount.values)"
   ]
  },
  {
   "cell_type": "markdown",
   "metadata": {},
   "source": [
    "Around about 410 images were acquired in 4 hours and 40 minutes"
   ]
  }
 ],
 "metadata": {
  "kernelspec": {
   "display_name": "cellpose_dash",
   "language": "python",
   "name": "python3"
  },
  "language_info": {
   "codemirror_mode": {
    "name": "ipython",
    "version": 3
   },
   "file_extension": ".py",
   "mimetype": "text/x-python",
   "name": "python",
   "nbconvert_exporter": "python",
   "pygments_lexer": "ipython3",
   "version": "3.8.18"
  }
 },
 "nbformat": 4,
 "nbformat_minor": 2
}
