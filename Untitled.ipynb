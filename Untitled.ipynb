{
 "cells": [
  {
   "cell_type": "code",
   "execution_count": null,
   "id": "f9eadee6",
   "metadata": {},
   "outputs": [],
   "source": [
    "from AIPyS.Baysian_deploy import BayesianGranularityDeploy"
   ]
  },
  {
   "cell_type": "code",
   "execution_count": null,
   "id": "c926bb6e",
   "metadata": {},
   "outputs": [],
   "source": [
    "import glob\n",
    "InducedImageFiles_1X = glob.glob(r'E:\\\\Gil\\\\Images\\\\012424_1Xvs2X_infaction\\\\1X\\\\' + '*tif')\n",
    "InducedImageFiles_1X\n",
    "\n",
    "path_input = r'E:\\Gil\\Images\\012424_1Xvs2X_infaction'\n",
    "path_out = path_input"
   ]
  },
  {
   "cell_type": "code",
   "execution_count": null,
   "id": "eddae14d",
   "metadata": {},
   "outputs": [],
   "source": []
  }
 ],
 "metadata": {
  "kernelspec": {
   "display_name": "pymc3_cellpose",
   "language": "python",
   "name": "pymc3_cellpose"
  },
  "language_info": {
   "codemirror_mode": {
    "name": "ipython",
    "version": 3
   },
   "file_extension": ".py",
   "mimetype": "text/x-python",
   "name": "python",
   "nbconvert_exporter": "python",
   "pygments_lexer": "ipython3",
   "version": "3.6.9"
  }
 },
 "nbformat": 4,
 "nbformat_minor": 5
}
